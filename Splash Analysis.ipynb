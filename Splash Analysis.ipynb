{
 "cells": [
  {
   "cell_type": "code",
   "execution_count": 1,
   "id": "47fe20eb",
   "metadata": {},
   "outputs": [
    {
     "data": {
      "text/plain": [
       "\"\\nThis notebook runs the splash functions to calculate the values for data analysis from the tracked matlab files.\\n\\nIt works within the 'Summer-2023-Diver-Experiments' directory, \\nreads the *.csv files from 'raw_data' and 'jet_data',\\ncalculates scalars, velocities, and times that are saved in 'analysis'\\n\\n'Splash Analysis Plots' and 'Splash Paper Draft Plots' plot these values.\\n\""
      ]
     },
     "execution_count": 1,
     "metadata": {},
     "output_type": "execute_result"
    }
   ],
   "source": [
    "'''\n",
    "This notebook runs the splash functions to calculate the values for data analysis from the tracked matlab files.\n",
    "\n",
    "It works within the 'Summer-2023-Diver-Experiments' directory, \n",
    "reads the *.csv files from 'raw_data' and 'jet_data',\n",
    "calculates scalars, velocities, and times that are saved in 'analysis'\n",
    "\n",
    "'Splash Analysis Plots' and 'Splash Paper Draft Plots' plot these values.\n",
    "'''"
   ]
  },
  {
   "cell_type": "code",
   "execution_count": 2,
   "id": "d2e5f2bb",
   "metadata": {},
   "outputs": [],
   "source": [
    "import numpy as np\n",
    "import matplotlib.pyplot as plt\n",
    "import pandas as pd\n",
    "import csv\n",
    "import os\n",
    "import glob"
   ]
  },
  {
   "cell_type": "code",
   "execution_count": 3,
   "id": "e42e733a",
   "metadata": {},
   "outputs": [],
   "source": [
    "from splash_functions import *"
   ]
  },
  {
   "cell_type": "code",
   "execution_count": 4,
   "id": "9b50f94d",
   "metadata": {},
   "outputs": [
    {
     "name": "stdout",
     "output_type": "stream",
     "text": [
      "06262023.W10  done! :)\n"
     ]
    }
   ],
   "source": [
    "splashAnalysis('06262023.W10') "
   ]
  },
  {
   "cell_type": "code",
   "execution_count": 5,
   "id": "1ecfec91",
   "metadata": {},
   "outputs": [
    {
     "name": "stdout",
     "output_type": "stream",
     "text": [
      "06272023.W22  done! :)\n"
     ]
    }
   ],
   "source": [
    "splashAnalysis('06272023.W22')"
   ]
  },
  {
   "cell_type": "code",
   "execution_count": 6,
   "id": "cf1d2ea4",
   "metadata": {},
   "outputs": [
    {
     "name": "stdout",
     "output_type": "stream",
     "text": [
      "06282023.SuperGlue  done! :)\n"
     ]
    }
   ],
   "source": [
    "splashAnalysis('06282023.SuperGlue')"
   ]
  },
  {
   "cell_type": "code",
   "execution_count": 7,
   "id": "cb0ec429",
   "metadata": {},
   "outputs": [
    {
     "name": "stdout",
     "output_type": "stream",
     "text": [
      "06282023.W28  done! :)\n"
     ]
    }
   ],
   "source": [
    "splashAnalysis('06282023.W28') "
   ]
  },
  {
   "cell_type": "code",
   "execution_count": 8,
   "id": "846064b1",
   "metadata": {},
   "outputs": [
    {
     "name": "stdout",
     "output_type": "stream",
     "text": [
      "06292023.W22  done! :)\n"
     ]
    }
   ],
   "source": [
    "splashAnalysis('06292023.W22') "
   ]
  },
  {
   "cell_type": "code",
   "execution_count": 9,
   "id": "557548a7",
   "metadata": {},
   "outputs": [
    {
     "name": "stdout",
     "output_type": "stream",
     "text": [
      "06302023.W22  done! :)\n"
     ]
    }
   ],
   "source": [
    "splashAnalysis('06302023.W22')"
   ]
  },
  {
   "cell_type": "code",
   "execution_count": 10,
   "id": "0653ed7e",
   "metadata": {},
   "outputs": [
    {
     "name": "stdout",
     "output_type": "stream",
     "text": [
      "07072023.W22  done! :)\n"
     ]
    }
   ],
   "source": [
    "splashAnalysis('07072023.W22')"
   ]
  },
  {
   "cell_type": "code",
   "execution_count": 11,
   "id": "72744e27",
   "metadata": {},
   "outputs": [
    {
     "name": "stdout",
     "output_type": "stream",
     "text": [
      "07132023.W10  done! :)\n"
     ]
    }
   ],
   "source": [
    "splashAnalysis('07132023.W10')"
   ]
  },
  {
   "cell_type": "code",
   "execution_count": 12,
   "id": "6a3916ed",
   "metadata": {},
   "outputs": [
    {
     "name": "stdout",
     "output_type": "stream",
     "text": [
      "07132023.W28  done! :)\n"
     ]
    }
   ],
   "source": [
    "splashAnalysis('07132023.W28') "
   ]
  },
  {
   "cell_type": "code",
   "execution_count": 13,
   "id": "24941b17",
   "metadata": {},
   "outputs": [
    {
     "name": "stdout",
     "output_type": "stream",
     "text": [
      "07142023.W17  done! :)\n"
     ]
    }
   ],
   "source": [
    "splashAnalysis('07142023.W17')"
   ]
  },
  {
   "cell_type": "code",
   "execution_count": 16,
   "id": "7f644c72",
   "metadata": {},
   "outputs": [
    {
     "name": "stdout",
     "output_type": "stream",
     "text": [
      "07142023.W22  done! :)\n"
     ]
    }
   ],
   "source": [
    "splashAnalysis('07142023.W22')"
   ]
  },
  {
   "cell_type": "code",
   "execution_count": 15,
   "id": "76eeee38",
   "metadata": {},
   "outputs": [
    {
     "name": "stdout",
     "output_type": "stream",
     "text": [
      "10082023.W17Fixed  done! :)\n"
     ]
    }
   ],
   "source": [
    "splashAnalysis('10082023.W17Fixed')"
   ]
  },
  {
   "cell_type": "code",
   "execution_count": null,
   "id": "1bd6477a",
   "metadata": {},
   "outputs": [],
   "source": []
  }
 ],
 "metadata": {
  "kernelspec": {
   "display_name": "Python 3",
   "language": "python",
   "name": "python3"
  },
  "language_info": {
   "codemirror_mode": {
    "name": "ipython",
    "version": 3
   },
   "file_extension": ".py",
   "mimetype": "text/x-python",
   "name": "python",
   "nbconvert_exporter": "python",
   "pygments_lexer": "ipython3",
   "version": "3.8.8"
  }
 },
 "nbformat": 4,
 "nbformat_minor": 5
}
