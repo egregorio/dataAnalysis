{
 "cells": [
  {
   "cell_type": "code",
   "execution_count": 1,
   "id": "0a18d996",
   "metadata": {},
   "outputs": [],
   "source": [
    "import numpy as np\n",
    "import matplotlib.pyplot as plt\n",
    "import matplotlib.colors as mcolors\n",
    "import pandas as pd\n",
    "import csv\n",
    "import os\n",
    "import glob"
   ]
  },
  {
   "cell_type": "code",
   "execution_count": 2,
   "id": "2a54415c",
   "metadata": {},
   "outputs": [],
   "source": [
    "# Name the files you want to import\n",
    "P = '/Users/elizabeth/egregorio@gwmail.gwu.edu - Google Drive/My Drive/Summer-2023-Diver-Experiments/';\n",
    "A = 'analysis/';\n",
    "names = ['06262023.W10','06272023.W22','06282023.SuperGlue','06282023.W28','06292023.W22',\n",
    "         '06302023.W22','07072023.W22','07132023.W10','07132023.W28','07142023.W17','07142023.W22']\n",
    "color_m = ['b','g','g','r','g','g','g','b','r','k','g']\n",
    "shape_bi = ['^','^','^','^','o','o','o','o','o','o','o']\n",
    "color_bi = ['b','b','b','b','k','k','k','k','k','k','k']\n",
    "legend = ['F10', 'F22', 'F22', 'F28', 'H22', 'H22', 'H22', 'H10', 'H28', 'H17', 'H22' ]\n",
    "scalar_header = ['v_o point 1','v_o point 2','d_p point 1','d_p point 2','splash height','time of splash height']\n",
    "# v_o = impact velocity # d_p = depth of pinch off # splash height # time of splash height"
   ]
  },
  {
   "cell_type": "code",
   "execution_count": 3,
   "id": "46acc21f",
   "metadata": {},
   "outputs": [],
   "source": [
    "E1 = []; E2 = []; T_E1 = []; T_E2 = []\n",
    "I1 = []; I2 = []; T_I1 = []; T_I2 = []\n",
    "P1 = []; P2 = []; T_P1 = []; T_P2 = []\n",
    "Sp = []; T_Sp = []\n",
    "Sc = []\n",
    "\n",
    "\n",
    "for i in range(0,len(names)):\n",
    "    # Entry Velocity Profile\n",
    "    E1.append(glob.glob(P + A + os.path.join('/' + names[i] + \"_entry1.csv\")))\n",
    "    E2.append(glob.glob(P + A + os.path.join('/' + names[i] + \"_entry2.csv\")))\n",
    "    # Impact Velocity Profile\n",
    "    I1.append(glob.glob(P + A + os.path.join('/' + names[i] + \"_impact1.csv\")))\n",
    "    I2.append(glob.glob(P + A + os.path.join('/' + names[i] + \"_impact2.csv\")))\n",
    "    # Pinch off Velocity Profile\n",
    "    P1.append(glob.glob(P + A + os.path.join('/' + names[i] + \"_pinch1.csv\")))\n",
    "    P2.append(glob.glob(P + A + os.path.join('/' + names[i] + \"_pinch2.csv\")))\n",
    "    # Scalar Values\n",
    "    Sc.append(glob.glob(P + A + os.path.join('/' + names[i] + \"_scalars.csv\")))\n",
    "    # Splash Velocity Profile\n",
    "    Sp.append(glob.glob(P + A + os.path.join('/' + names[i] + \"_splash.csv\")))\n",
    "    Sx.append(glob.glob(P + A + os.path.join('/' + names[i] + \"_splash_pos.csv\")))\n",
    "    # Entry Velocity Profile Time List\n",
    "    T_E1.append(glob.glob(P + A + os.path.join('/' + names[i] + \"_entry1_time.csv\")))\n",
    "    T_E2.append(glob.glob(P + A + os.path.join('/' + names[i] + \"_entry2_time.csv\")))\n",
    "    # Impact Velocity Profile Time List\n",
    "    T_I1.append(glob.glob(P + A + os.path.join('/' + names[i] + \"_impact1_time.csv\")))\n",
    "    T_I2.append(glob.glob(P + A + os.path.join('/' + names[i] + \"_impact2_time.csv\")))\n",
    "    # Pinch off Velocity Profile Time List\n",
    "    T_P1.append(glob.glob(P + A + os.path.join('/' + names[i] + \"_pinch1_time.csv\")))\n",
    "    T_P2.append(glob.glob(P + A + os.path.join('/' + names[i] + \"_pinch2_time.csv\")))\n",
    "    # Splash Velocity Profile Time List\n",
    "    T_Sp.append(glob.glob(P + A + os.path.join('/' + names[i] + \"_splash_time.csv\")))\n",
    "    \n"
   ]
  },
  {
   "cell_type": "code",
   "execution_count": null,
   "id": "86d9f01e",
   "metadata": {},
   "outputs": [],
   "source": [
    "for i in range(0,len(E1)):\n",
    "    entry1 = np.loadtxt(E1[i][0],delimiter=',',skiprows=0)\n",
    "    entry2 = np.loadtxt(E2[i][0],delimiter=',',skiprows=0)\n",
    "    time1 = np.loadtxt(T_E1[i][0],delimiter=',',skiprows=0)\n",
    "    time2 = np.loadtxt(T_E2[i][0],delimiter=',',skiprows=0)\n",
    "    \n",
    "    plt.plot(time1, entry1, label = legend[i])\n",
    "    plt.plot(time2, entry2, label = legend[i])\n",
    "\n",
    "#plt.legend()\n",
    "plt.show()"
   ]
  },
  {
   "cell_type": "code",
   "execution_count": null,
   "id": "891d81ea",
   "metadata": {},
   "outputs": [],
   "source": [
    "entry1 = np.loadtxt(E1[0][0],delimiter=',',skiprows=0)\n",
    "entry2 = np.loadtxt(E1[7][0],delimiter=',',skiprows=0)\n",
    "time1 = np.loadtxt(T_E1[0][0],delimiter=',',skiprows=0)\n",
    "time2 = np.loadtxt(T_E1[7][0],delimiter=',',skiprows=0)\n",
    "    \n",
    "plt.plot(time1[0], entry1[0], label = legend[0])\n",
    "plt.plot(time2[0], entry2[0], label = legend[7])\n",
    "\n",
    "plt.legend()\n",
    "plt.show()"
   ]
  },
  {
   "cell_type": "code",
   "execution_count": null,
   "id": "c51d80c3",
   "metadata": {},
   "outputs": [],
   "source": [
    "entry1 = np.loadtxt(I1[0][0],delimiter=',',skiprows=0)\n",
    "entry2 = np.loadtxt(I1[7][0],delimiter=',',skiprows=0)\n",
    "time1 = np.loadtxt(T_I1[0][0],delimiter=',',skiprows=0)\n",
    "time2 = np.loadtxt(T_I1[7][0],delimiter=',',skiprows=0)\n",
    "    \n",
    "plt.plot(time1[0], entry1[0], label = legend[0])\n",
    "plt.plot(time2[0], entry2[0], label = legend[7])\n",
    "plt.plot(time1[0][-50:], entry1[0][-50:], label = legend[0])\n",
    "plt.plot(time2[0][-250:-200], entry2[0][-250:-200], label = legend[7])\n",
    "\n",
    "plt.legend()\n",
    "plt.show()"
   ]
  },
  {
   "cell_type": "code",
   "execution_count": null,
   "id": "91966a89",
   "metadata": {},
   "outputs": [],
   "source": [
    "entry1 = np.loadtxt(I1[5][0],delimiter=',',skiprows=0)\n",
    "time1 = np.loadtxt(T_I1[5][0],delimiter=',',skiprows=0)\n",
    "    \n",
    "plt.plot(time1[10], entry1[10], label = legend[0])\n",
    "plt.plot(time1[10][-200:-150], entry1[10][-200:-150],'o', label = legend[0])\n",
    "\n",
    "plt.legend()\n",
    "plt.show()"
   ]
  },
  {
   "cell_type": "code",
   "execution_count": null,
   "id": "c5a96144",
   "metadata": {},
   "outputs": [],
   "source": [
    "entry1 = np.loadtxt(E1[1][0],delimiter=',',skiprows=0)\n",
    "entry2 = np.loadtxt(E1[4][0],delimiter=',',skiprows=0)\n",
    "time1 = np.loadtxt(T_E1[1][0],delimiter=',',skiprows=0)\n",
    "time2 = np.loadtxt(T_E1[4][0],delimiter=',',skiprows=0)\n",
    "    \n",
    "plt.plot(time1[0], entry1[0], label = legend[1])\n",
    "plt.plot(time2[0], entry2[0], label = legend[4])\n",
    "\n",
    "plt.legend()\n",
    "plt.show()"
   ]
  },
  {
   "cell_type": "code",
   "execution_count": null,
   "id": "8efa8ec3",
   "metadata": {},
   "outputs": [],
   "source": [
    "entry1 = np.loadtxt(E1[3][0],delimiter=',',skiprows=0)\n",
    "entry2 = np.loadtxt(E1[8][0],delimiter=',',skiprows=0)\n",
    "time1 = np.loadtxt(T_E1[3][0],delimiter=',',skiprows=0)\n",
    "time2 = np.loadtxt(T_E1[8][0],delimiter=',',skiprows=0)\n",
    "    \n",
    "plt.plot(time1[0], entry1[0], label = legend[3])\n",
    "plt.plot(time2[0], entry2[0], label = legend[8])\n",
    "plt.plot(time1[0][-80:-30], entry1[0][-80:-30], label = legend[3])\n",
    "plt.plot(time2[0][-80:-30], entry2[0][-80:-30], label = legend[8])\n",
    "plt.plot(time1[0][:50], entry1[0][:50], label = legend[3])\n",
    "plt.plot(time2[0][:50], entry2[0][:50], label = legend[8])\n",
    "plt.legend()\n",
    "plt.show()"
   ]
  },
  {
   "cell_type": "code",
   "execution_count": null,
   "id": "e0956a81",
   "metadata": {},
   "outputs": [],
   "source": [
    "a, b = np.polyfit(time1[0][:50],entry1[0][:50],1)\n",
    "print(a)"
   ]
  },
  {
   "cell_type": "code",
   "execution_count": null,
   "id": "306abfbe",
   "metadata": {},
   "outputs": [],
   "source": [
    "plt.plot(time1[0][:50], entry1[0][:50], label = legend[3])\n",
    "#plt.plot(time2[0], entry2[0], label = legend[8])\n",
    "plt.plot(time1[0][:50],a*time1[0][:50]+b)\n",
    "plt.legend()\n",
    "plt.show()"
   ]
  },
  {
   "cell_type": "code",
   "execution_count": null,
   "id": "1ac4f363",
   "metadata": {},
   "outputs": [],
   "source": [
    "plt.figure()\n",
    "for i in range(0,len(Sc)):\n",
    "    splash_x = np.loadtxt(Sc[i][0],delimiter=',',skiprows=0)\n",
    "    splash_y = np.loadtxt(Sc[i][0],delimiter=',',skiprows=0)\n",
    "\n",
    "    \n",
    "    impact1 = scalars[0:,0]\n",
    "    impact2 = scalars[0:,1]\n",
    "    entryv1 = scalars[0:,2]\n",
    "    entryv2 = scalars[0:,3]\n",
    "    entryv3 = scalars[0:,4]\n",
    "    entryv4 = scalars[0:,5]\n",
    "    depthc1 = scalars[0:,6]\n",
    "    depthc2 = scalars[0:,7]\n",
    "    pinch_t = scalars[0:,8]\n",
    "    splashh = scalars[0:,9]\n",
    "    splasht = scalars[0:,10]\n",
    "\n",
    "    deltaV1 = impact2 - entryv2\n",
    "    deltaV2 = impact2 - entryv4\n",
    "    \n",
    "    for j in range(0,len(impact1)):\n",
    "        plt.plot(pinch_t[j],depthc1[j],shape_bi[i],color=color_bi[i])\n",
    "#        plt.plot(1,impact1[j],'o',color='r')\n",
    "#        plt.plot(2,entryv1[j],'o',color='b')\n",
    "#        plt.plot(3,entryv2[j],'o',color='g')\n",
    "#plt.legend()\n",
    "plt.show()\n",
    "\n"
   ]
  },
  {
   "cell_type": "code",
   "execution_count": 10,
   "id": "9dffef37",
   "metadata": {},
   "outputs": [
    {
     "data": {
      "image/png": "[encoded data removed]",
      "text/plain": [
       "<Figure size 432x288 with 1 Axes>"
      ]
     },
     "metadata": {
      "needs_background": "light"
     },
     "output_type": "display_data"
    }
   ],
   "source": [
    "plt.figure()\n",
    "for i in range(0,len(Sc)):\n",
    "    scalars = np.loadtxt(Sc[i][0],delimiter=',',skiprows=0)\n",
    "    \n",
    "    impact1 = scalars[0:,0]\n",
    "    impact2 = scalars[0:,1]\n",
    "    entryv1 = scalars[0:,2]\n",
    "    entryv2 = scalars[0:,3]\n",
    "    entryv3 = scalars[0:,4]\n",
    "    entryv4 = scalars[0:,5]\n",
    "    depthc1 = scalars[0:,6]\n",
    "    depthc2 = scalars[0:,7]\n",
    "    pinch_t = scalars[0:,8]\n",
    "    splashh = scalars[0:,9]\n",
    "    splasht = scalars[0:,10]\n",
    "\n",
    "    deltaV1 = impact2 - entryv2\n",
    "    deltaV2 = impact2 - entryv4\n",
    "    \n",
    "    for j in range(0,len(impact1)):\n",
    "        plt.plot(pinch_t[j],depthc1[j],shape_bi[i],color=color_bi[i])\n",
    "#        plt.plot(1,impact1[j],'o',color='r')\n",
    "#        plt.plot(2,entryv1[j],'o',color='b')\n",
    "#        plt.plot(3,entryv2[j],'o',color='g')\n",
    "#plt.legend()\n",
    "plt.show()\n"
   ]
  },
  {
   "cell_type": "code",
   "execution_count": null,
   "id": "a27ff902",
   "metadata": {},
   "outputs": [],
   "source": [
    "plt.figure()\n",
    "for i in range(0,len(E1)):\n",
    "    splash = np.loadtxt(Sp[i][0],delimiter=',',skiprows=0)\n",
    "    timeSp = np.loadtxt(T_Sp[i][0],delimiter=',',skiprows=0)\n",
    "    \n",
    "    plt.plot(timeSp, splash, color=color_bi[i])\n",
    "\n",
    "#plt.legend()\n",
    "plt.show()"
   ]
  },
  {
   "cell_type": "code",
   "execution_count": null,
   "id": "03cbd74a",
   "metadata": {},
   "outputs": [],
   "source": [
    "plt.figure()\n",
    "\n",
    "pinch1 = np.loadtxt(P1[4][0],delimiter=',',skiprows=0)\n",
    "timeP1 = np.loadtxt(T_P1[4][0],delimiter=',',skiprows=0)\n",
    "pinch2 = np.loadtxt(P2[4][0],delimiter=',',skiprows=0)\n",
    "timeP2 = np.loadtxt(T_P2[4][0],delimiter=',',skiprows=0)\n",
    "splash = np.loadtxt(Sp[4][0],delimiter=',',skiprows=0)\n",
    "timeSp = np.loadtxt(T_Sp[4][0],delimiter=',',skiprows=0)\n",
    "\n",
    "print(np.shape(splash))\n",
    "\n",
    "for i in range(0,len(splash)):\n",
    "    plt.plot(timeSp[i], splash[i])#, color=color_bi[i])\n",
    "    plt.plot(timeP1[i], pinch1[i])\n",
    "    plt.plot(timeP2[i], pinch2[i])\n",
    "\n",
    "#plt.legend()\n",
    "plt.show()"
   ]
  },
  {
   "cell_type": "code",
   "execution_count": null,
   "id": "136cce66",
   "metadata": {},
   "outputs": [],
   "source": [
    "test = [1,2,3,4,5,6,7,8,9]\n",
    "print(max(test))\n",
    "print(test.index(max(test)))\n",
    "print(test[:3])"
   ]
  },
  {
   "cell_type": "code",
   "execution_count": null,
   "id": "f15a30ec",
   "metadata": {},
   "outputs": [],
   "source": []
  }
 ],
 "metadata": {
  "kernelspec": {
   "display_name": "Python 3",
   "language": "python",
   "name": "python3"
  },
  "language_info": {
   "codemirror_mode": {
    "name": "ipython",
    "version": 3
   },
   "file_extension": ".py",
   "mimetype": "text/x-python",
   "name": "python",
   "nbconvert_exporter": "python",
   "pygments_lexer": "ipython3",
   "version": "3.8.8"
  }
 },
 "nbformat": 4,
 "nbformat_minor": 5
}
