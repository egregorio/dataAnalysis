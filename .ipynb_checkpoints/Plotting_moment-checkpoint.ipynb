{
 "cells": [
  {
   "cell_type": "code",
   "execution_count": 1,
   "id": "6b87d3c8-ab60-483f-99c5-fa19c7d3d171",
   "metadata": {},
   "outputs": [],
   "source": [
    "import numpy\n",
    "import matplotlib.pyplot as plt"
   ]
  },
  {
   "cell_type": "code",
   "execution_count": 2,
   "id": "5832fd2d-0115-4478-8a8e-c5291fdb0aa3",
   "metadata": {},
   "outputs": [],
   "source": [
    "import pandas as pd\n",
    "import csv\n",
    "import os\n",
    "import glob"
   ]
  },
  {
   "cell_type": "code",
   "execution_count": 3,
   "id": "ceac3b90-b3c3-4ca9-b796-cd194c914a94",
   "metadata": {},
   "outputs": [],
   "source": [
    "P = '/Users/elizabeth/egregorio@gwmail.gwu.edu - Google Drive/My Drive/Elizabeth-Diver-Experiment-Fall-2021/moment/first 20 frames';\n",
    "D = '08172022_an1';"
   ]
  },
  {
   "cell_type": "code",
   "execution_count": 4,
   "id": "f625a115-2841-4141-9eea-0808f0bbc36b",
   "metadata": {},
   "outputs": [],
   "source": [
    "files = glob.glob(P + D + \"/*.csv\")"
   ]
  },
  {
   "cell_type": "code",
   "execution_count": 5,
   "id": "cdd802a1-0db6-4423-96ea-18a169b2519c",
   "metadata": {},
   "outputs": [],
   "source": [
    "#print(files[1])"
   ]
  },
  {
   "cell_type": "code",
   "execution_count": 6,
   "id": "3cd38c98-fc70-48e6-bbc6-f2df17a38483",
   "metadata": {},
   "outputs": [
    {
     "ename": "IndexError",
     "evalue": "list index out of range",
     "output_type": "error",
     "traceback": [
      "\u001b[0;31m---------------------------------------------------------------------------\u001b[0m",
      "\u001b[0;31mIndexError\u001b[0m                                Traceback (most recent call last)",
      "\u001b[0;32m<ipython-input-6-ea6fc466af71>\u001b[0m in \u001b[0;36m<module>\u001b[0;34m\u001b[0m\n\u001b[0;32m----> 1\u001b[0;31m df = pd.read_csv(files[0], names=['point1_x', 'point1_y', 'point2_x', 'point2_y',\n\u001b[0m\u001b[1;32m      2\u001b[0m                                   'point3_x', 'point3_y','point4_x', 'point4_y','point5_x', 'point5_y'])\n\u001b[1;32m      3\u001b[0m \u001b[0;34m\u001b[0m\u001b[0m\n\u001b[1;32m      4\u001b[0m \u001b[0;31m#graphing x and y points, where x & y are counter-intuitive (does not reflect real-world)\u001b[0m\u001b[0;34m\u001b[0m\u001b[0;34m\u001b[0m\u001b[0;34m\u001b[0m\u001b[0m\n\u001b[1;32m      5\u001b[0m \u001b[0;31m#matches direction of motion in video\u001b[0m\u001b[0;34m\u001b[0m\u001b[0;34m\u001b[0m\u001b[0;34m\u001b[0m\u001b[0m\n",
      "\u001b[0;31mIndexError\u001b[0m: list index out of range"
     ]
    }
   ],
   "source": [
    "df = pd.read_csv(files[0], names=['point1_x', 'point1_y', 'point2_x', 'point2_y',\n",
    "                                  'point3_x', 'point3_y','point4_x', 'point4_y','point5_x', 'point5_y'])\n",
    "\n",
    "#graphing x and y points, where x & y are counter-intuitive (does not reflect real-world)\n",
    "#matches direction of motion in video\n",
    "point1_h = df.iloc[:,0]\n",
    "point1_v = df.iloc[:,1]\n",
    "\n",
    "point2_h = df.iloc[:,2]\n",
    "point2_v = df.iloc[:,3]\n",
    "\n",
    "point3_h = df.iloc[:,4]\n",
    "point3_v = df.iloc[:,5]\n",
    "\n",
    "point4_h = df.iloc[:,6]\n",
    "point4_v = df.iloc[:,7]\n",
    "\n",
    "point5_h = df.iloc[:,8]\n",
    "point5_v = df.iloc[:,9]\n",
    "\n",
    "plt.plot(point1_h, point1_v, label='point 1')\n",
    "plt.plot(point2_h, point2_v, label='point 2')\n",
    "plt.plot(point3_h, point3_v, label='point 3')\n",
    "plt.plot(point4_h, point4_v, label='point 4')\n",
    "plt.plot(point5_h, point5_v, label='point 5')\n",
    "plt.xlabel('Horizontal Position')\n",
    "plt.ylabel('Vertical Position')\n",
    "plt.legend(loc='best')\n"
   ]
  },
  {
   "cell_type": "code",
   "execution_count": null,
   "id": "53ee2878-5912-4a63-898f-3f17833993cb",
   "metadata": {},
   "outputs": [],
   "source": [
    "plt.plot(point1_h, point1_v, label='point 1')\n",
    "plt.plot(point4_h, point4_v, label='point 4')\n",
    "plt.xlabel('Horizontal Position')\n",
    "plt.ylabel('Vertical Position')\n",
    "plt.legend(loc='best')"
   ]
  },
  {
   "cell_type": "code",
   "execution_count": null,
   "id": "bf12ca58-f5d0-4ebb-890f-b21de5d428ef",
   "metadata": {},
   "outputs": [],
   "source": [
    "p1_v = (point1_v.values)\n",
    "p1_h = point1_h.values\n",
    "p4_v = (point4_v.values)\n",
    "p4_h = point4_h.values\n",
    "\n",
    "angle = numpy.arctan((p1_v-p4_v)/(p1_h-p4_h))\n",
    "f = numpy.arange(99)"
   ]
  },
  {
   "cell_type": "code",
   "execution_count": null,
   "id": "1b8c9eb1-a383-4731-a980-839524bd0f1d",
   "metadata": {},
   "outputs": [],
   "source": [
    "plt.figure()\n",
    "plt.plot(f, numpy.degrees(angle))\n",
    "plt.show()"
   ]
  },
  {
   "cell_type": "code",
   "execution_count": null,
   "id": "6502e03c-5b35-412b-b6ea-afa2bcb5eda0",
   "metadata": {},
   "outputs": [],
   "source": [
    "print(numpy.degrees(angle))"
   ]
  },
  {
   "cell_type": "code",
   "execution_count": null,
   "id": "3c49e374-fc7b-41a9-b95d-c037cdd27e35",
   "metadata": {},
   "outputs": [],
   "source": []
  },
  {
   "cell_type": "code",
   "execution_count": null,
   "id": "95656a38-7aed-4d78-a61c-bd23ccd529ce",
   "metadata": {},
   "outputs": [],
   "source": []
  },
  {
   "cell_type": "code",
   "execution_count": null,
   "id": "ee371295-f3c2-4eb1-a46b-132bb3b8802a",
   "metadata": {},
   "outputs": [],
   "source": []
  },
  {
   "cell_type": "code",
   "execution_count": null,
   "id": "6a421c46-8f01-4105-a146-f15c4da0e913",
   "metadata": {},
   "outputs": [],
   "source": []
  },
  {
   "cell_type": "code",
   "execution_count": null,
   "id": "4f58eff1-c3c1-4cac-a339-11e4857bda2e",
   "metadata": {},
   "outputs": [],
   "source": []
  }
 ],
 "metadata": {
  "kernelspec": {
   "display_name": "Python 3",
   "language": "python",
   "name": "python3"
  },
  "language_info": {
   "codemirror_mode": {
    "name": "ipython",
    "version": 3
   },
   "file_extension": ".py",
   "mimetype": "text/x-python",
   "name": "python",
   "nbconvert_exporter": "python",
   "pygments_lexer": "ipython3",
   "version": "3.8.8"
  }
 },
 "nbformat": 4,
 "nbformat_minor": 5
}
