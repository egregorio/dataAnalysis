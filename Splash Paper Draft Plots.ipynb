{
 "cells": [
  {
   "cell_type": "code",
   "execution_count": 1,
   "id": "0a18d996",
   "metadata": {},
   "outputs": [],
   "source": [
    "import numpy as np\n",
    "import matplotlib.pyplot as plt\n",
    "import matplotlib.colors as mcolors\n",
    "import matplotlib.patches as mpatches\n",
    "import pandas as pd\n",
    "import csv\n",
    "import os\n",
    "import glob\n",
    "from scipy.stats import linregress"
   ]
  },
  {
   "cell_type": "code",
   "execution_count": 2,
   "id": "9f1b7d63",
   "metadata": {},
   "outputs": [],
   "source": [
    "params = {\"ytick.color\" : \"black\",\n",
    "          \"xtick.color\" : \"black\",\n",
    "          \"axes.labelcolor\" : \"black\",\n",
    "          \"axes.edgecolor\" : \"black\",\n",
    "          \"text.usetex\" : True,\n",
    "          \"font.family\" : \"serif\",\n",
    "          \"font.serif\" : [\"Computer Modern Serif\"]}\n",
    "plt.rcParams.update(params)\n",
    "\n",
    "SMALL_SIZE = 10\n",
    "MEDIUM_SIZE = 12\n",
    "BIGGER_SIZE = 14\n",
    "\n",
    "plt.rc('font', size=MEDIUM_SIZE)          # controls default text sizes\n",
    "plt.rc('axes', titlesize=MEDIUM_SIZE)     # fontsize of the axes title\n",
    "plt.rc('axes', labelsize=MEDIUM_SIZE)    # fontsize of the x and y labels\n",
    "plt.rc('xtick', labelsize=MEDIUM_SIZE)    # fontsize of the tick labels\n",
    "plt.rc('ytick', labelsize=MEDIUM_SIZE)    # fontsize of the tick labels\n",
    "plt.rc('legend', fontsize=MEDIUM_SIZE)    # legend fontsize\n",
    "plt.rc('figure', titlesize=BIGGER_SIZE)  # fontsize of the figure title"
   ]
  },
  {
   "cell_type": "code",
   "execution_count": 3,
   "id": "2f4efece",
   "metadata": {},
   "outputs": [],
   "source": [
    "def find_nearest(lst, K):\n",
    "    return lst[min(range(len(lst)), key = lambda i: abs(lst[i]-K))]\n",
    "\n",
    "def splash_HandT(height,splashy,splasht,return_splash,return_time):\n",
    "    for i in range(0,len(splashy)):\n",
    "        nearest = find_nearest(splashy[i],height)\n",
    "        index = np.where(splashy[i] == nearest)\n",
    "        return_splash.append(nearest)\n",
    "        return_time.append(splasht[i][index[0][0]])\n",
    "\n",
    "def splash_atTime(time,splashy,splasht,return_splash,return_time):\n",
    "    for i in range(0,len(splashy)):\n",
    "        nearest = find_nearest(splasht[i],time)\n",
    "        index = np.where(splasht[i] == nearest)\n",
    "        return_splash.append(splashy[i][index[0][0]])\n",
    "        return_time.append(nearest)"
   ]
  },
  {
   "cell_type": "code",
   "execution_count": 4,
   "id": "2a54415c",
   "metadata": {},
   "outputs": [],
   "source": [
    "# Name the files you want to import\n",
    "P = '/Users/elizabeth/egregorio@gwmail.gwu.edu - Google Drive/My Drive/Summer-2023-Diver-Experiments/';\n",
    "A = 'analysis';\n",
    "names = ['06262023.W10','06272023.W22','06282023.SuperGlue','06282023.W28','10082023.W17Fixed',\n",
    "         '06292023.W22','06302023.W22','07072023.W22','07132023.W10','07132023.W28','07142023.W17','07142023.W22']\n",
    "hinge_names = ['06292023.W22','06302023.W22','07072023.W22','07132023.W10','07132023.W28','07142023.W17','07142023.W22']\n",
    "#names = ['06262023.W10','06272023.W22','06282023.SuperGlue','06282023.W28','06292023.W22',\n",
    "#         '06302023.W22','07072023.W22','07132023.W10','07132023.W28','07142023.W17','07142023.W22','10082023.W17Fixed']\n",
    "#names = ['06272023.W22','06282023.SuperGlue','06302023.W22','07072023.W22']\n",
    "#color_bi = ['b','b','k','k']\n",
    "#shape_bi = ['^','^','o','o']\n",
    "#color_m = ['b','g','g','r','g','g','g','b','r','k','g']\n",
    "shape_bi = ['^','^','^','^','o','o','o','o','o','o','o','^']\n",
    "color_bi = ['darkturquoise','darkturquoise','darkturquoise','darkturquoise','k','k','k','k','k','k','k','darkturquoise']\n",
    "legend = ['F10', 'F22', 'F22', 'F28', 'H22', 'H22', 'H22', 'H10', 'H28', 'H17', 'H22' ]\n",
    "scalar_header = ['v_o point 1','v_o point 2','d_p point 1','d_p point 2','splash height','time of splash height']\n",
    "# v_o = impact velocity # d_p = depth of pinch off # splash height # time of splash height"
   ]
  },
  {
   "cell_type": "code",
   "execution_count": 5,
   "id": "46acc21f",
   "metadata": {},
   "outputs": [],
   "source": [
    "E1 = []; E2 = []; T_E1 = []; T_E2 = []\n",
    "I1 = []; I2 = []; T_I1 = []; T_I2 = []\n",
    "P1 = []; P2 = []; T_P1 = []; T_P2 = []\n",
    "Sp = []; Sx = []; T_Sp = []\n",
    "Sc = []; T6 = []\n",
    "\n",
    "\n",
    "for i in range(0,len(names)):\n",
    "    # Entry Velocity Profile\n",
    "    E1.append(glob.glob(P + A + os.path.join('/' + names[i] + \"_entry1.csv\")))\n",
    "    E2.append(glob.glob(P + A + os.path.join('/' + names[i] + \"_entry2.csv\")))\n",
    "    # Impact Velocity Profile\n",
    "    I1.append(glob.glob(P + A + os.path.join('/' + names[i] + \"_impact1.csv\")))\n",
    "    I2.append(glob.glob(P + A + os.path.join('/' + names[i] + \"_impact2.csv\")))\n",
    "    # Pinch off Velocity Profile\n",
    "    P1.append(glob.glob(P + A + os.path.join('/' + names[i] + \"_pinch1.csv\")))\n",
    "    P2.append(glob.glob(P + A + os.path.join('/' + names[i] + \"_pinch2.csv\")))\n",
    "    # Scalar Values\n",
    "    Sc.append(glob.glob(P + A + os.path.join('/' + names[i] + \"_scalars.csv\")))\n",
    "    # Splash Velocity Profile\n",
    "    Sp.append(glob.glob(P + A + os.path.join('/' + names[i] + \"_splash.csv\")))\n",
    "    Sx.append(glob.glob(P + A + os.path.join('/' + names[i] + \"_splash_pos.csv\")))\n",
    "    # Entry Velocity Profile Time List\n",
    "    T_E1.append(glob.glob(P + A + os.path.join('/' + names[i] + \"_entry1_time.csv\")))\n",
    "    T_E2.append(glob.glob(P + A + os.path.join('/' + names[i] + \"_entry2_time.csv\")))\n",
    "    # Impact Velocity Profile Time List\n",
    "    T_I1.append(glob.glob(P + A + os.path.join('/' + names[i] + \"_impact1_time.csv\")))\n",
    "    T_I2.append(glob.glob(P + A + os.path.join('/' + names[i] + \"_impact2_time.csv\")))\n",
    "    # Pinch off Velocity Profile Time List\n",
    "    T_P1.append(glob.glob(P + A + os.path.join('/' + names[i] + \"_pinch1_time.csv\")))\n",
    "    T_P2.append(glob.glob(P + A + os.path.join('/' + names[i] + \"_pinch2_time.csv\")))\n",
    "    # Splash Velocity Profile Time List\n",
    "    T_Sp.append(glob.glob(P + A + os.path.join('/' + names[i] + \"_splash_time.csv\")))\n",
    "    # Splash Height at Tau = 6\n",
    "    T6.append(glob.glob(P + A + os.path.join('/' + names[i] + \"_splashT6.csv\")))\n",
    "\n",
    "\n",
    "    \n",
    "angle_files = []\n",
    "    \n",
    "for i in range(0,len(hinge_names)):\n",
    "    angle_files.append(glob.glob(P + A + os.path.join('/' + hinge_names[i] + \"_angles.csv\")))"
   ]
  },
  {
   "cell_type": "code",
   "execution_count": 6,
   "id": "38505bb8",
   "metadata": {},
   "outputs": [],
   "source": [
    "fixed_scalars = []\n",
    "hinge_scalars = []\n",
    "fixed_splash = []\n",
    "hinge_splash = []\n",
    "\n",
    "for i in range(0,len(Sc)):\n",
    "    scalars = np.loadtxt(Sc[i][0],delimiter=',',skiprows=0)\n",
    "    splashs = np.loadtxt(T6[i][0],delimiter=',',skiprows=0)\n",
    "    \n",
    "    if i <= 4:\n",
    "        fixed_scalars.extend(scalars)\n",
    "        fixed_splash.extend(splashs)\n",
    "    else:\n",
    "        hinge_scalars.extend(scalars)\n",
    "        hinge_splash.extend(splashs)\n",
    "\n",
    "fixed_impact1 = []\n",
    "hinge_impact1 = []\n",
    "fixed_depthc2 = []\n",
    "hinge_depthc2 = []\n",
    "fixed_pinch_t = []\n",
    "hinge_pinch_t = []\n",
    "\n",
    "for i in range(0,len(fixed_scalars)):\n",
    "    fixed_impact1.append(fixed_scalars[i][0])\n",
    "    fixed_depthc2.append(fixed_scalars[i][6])\n",
    "    fixed_pinch_t.append(fixed_scalars[i][7])\n",
    "\n",
    "for i in range(0,len(hinge_scalars)):\n",
    "    hinge_impact1.append(hinge_scalars[i][0])\n",
    "    hinge_depthc2.append(hinge_scalars[i][6])\n",
    "    hinge_pinch_t.append(hinge_scalars[i][7])"
   ]
  },
  {
   "cell_type": "code",
   "execution_count": 7,
   "id": "d387acd5",
   "metadata": {},
   "outputs": [],
   "source": [
    "degrees = []\n",
    "\n",
    "for i in range(0,len(angle_files)):\n",
    "    current = np.loadtxt(angle_files[i][0],delimiter=',',skiprows=0)\n",
    "    degrees.extend(current)"
   ]
  },
  {
   "cell_type": "code",
   "execution_count": 8,
   "id": "f68c2452",
   "metadata": {},
   "outputs": [],
   "source": [
    "'''\n",
    "Conversion from in to cm\n",
    "'''\n",
    "\n",
    "for i in range(0,len(fixed_depthc2)):\n",
    "    fixed_depthc2[i] = np.abs(fixed_depthc2[i]) * 2.54\n",
    "for i in range(0,len(hinge_depthc2)):\n",
    "    hinge_depthc2[i] = np.abs(hinge_depthc2[i]) * 2.54\n",
    "    \n",
    "for i in range(0,len(fixed_splash)):\n",
    "    fixed_splash[i] = fixed_splash[i] * 2.54\n",
    "for i in range(0,len(hinge_splash)):\n",
    "    hinge_splash[i] = hinge_splash[i] * 2.54\n",
    "    \n",
    "for i in range(0,len(fixed_impact1)):\n",
    "    fixed_impact1[i] = np.abs(fixed_impact1[i])\n",
    "for i in range(0,len(hinge_impact1)):\n",
    "    hinge_impact1[i] = np.abs(hinge_impact1[i])"
   ]
  },
  {
   "cell_type": "code",
   "execution_count": null,
   "id": "888b1826",
   "metadata": {},
   "outputs": [],
   "source": [
    "H_slope, H_intercept, H_rvalue, H_pvalue, H_stderr = linregress(hinge_impact1, degrees)\n",
    "X = np.linspace(2,4.5,100)\n",
    "\n",
    "H_rvalue = round(H_rvalue, 3)\n",
    "\n",
    "# Hinged and Fixed Impact Velocity v Depth of Pinch Off\n",
    "plt.figure()\n",
    "plt.plot(X,H_slope*X+H_intercept,'--',color='k',label='R$^2$ = '+str(H_rvalue))\n",
    "plt.plot(hinge_impact1,degrees,'o',color='k')\n",
    "plt.xlabel('Impact Velocity (m/s)')\n",
    "plt.ylabel('Angle of Arms (degrees)')\n",
    "plt.legend()\n",
    "plt.xlim(2,4.5)\n",
    "plt.ylim(-10,100)\n",
    "#plt.show()\n",
    "plt.savefig('/Users/elizabeth/egregorio@gwmail.gwu.edu - Google Drive/My Drive/Summer-2023-Diver-Experiments/\\\n",
    "analysis/angle-impactVelocityAll.png',dpi=1200)"
   ]
  },
  {
   "cell_type": "code",
   "execution_count": null,
   "id": "9c95e952",
   "metadata": {},
   "outputs": [],
   "source": [
    "H_slope, H_intercept, H_rvalue, H_pvalue, H_stderr = linregress(hinge_depthc2, degrees)\n",
    "X = np.linspace(0.35,0.05,100)\n",
    "\n",
    "H_rvalue = round(H_rvalue, 3)\n",
    "\n",
    "# Hinged and Fixed Impact Velocity v Depth of Pinch Off\n",
    "plt.figure()\n",
    "plt.plot(X,H_slope*X+H_intercept,'--',color='k',label='R$^2$ = '+str(H_rvalue))\n",
    "plt.plot(hinge_depthc2,degrees,'o',color='k')\n",
    "plt.xlabel('Depth of Air Cavity (cm)')\n",
    "plt.ylabel('Angle of Arms (degrees)')\n",
    "plt.legend()\n",
    "plt.xlim(0.35,0.05)\n",
    "plt.ylim(-10,100)\n",
    "#plt.show()\n",
    "plt.savefig('/Users/elizabeth/egregorio@gwmail.gwu.edu - Google Drive/My Drive/Summer-2023-Diver-Experiments/\\\n",
    "analysis/angle-pinchOffDepthAll.png',dpi=1200)"
   ]
  },
  {
   "cell_type": "code",
   "execution_count": null,
   "id": "0fe68870",
   "metadata": {},
   "outputs": [],
   "source": [
    "H_slope, H_intercept, H_rvalue, H_pvalue, H_stderr = linregress(hinge_splash, degrees)\n",
    "X = np.linspace(0,16,100)\n",
    "\n",
    "H_rvalue = round(H_rvalue, 3)\n",
    "\n",
    "# Hinged and Fixed Impact Velocity v Depth of Pinch Off\n",
    "plt.figure()\n",
    "plt.plot(X,H_slope*X+H_intercept,'--',color='k',label='R$^2$ = '+str(H_rvalue))\n",
    "plt.plot(hinge_splash,degrees,'o',color='k')\n",
    "plt.xlabel('Splash Height (cm)')\n",
    "plt.ylabel('Angle of Arms (degrees)')\n",
    "plt.legend()\n",
    "plt.xlim(0,16)\n",
    "plt.ylim(-10,100)\n",
    "#plt.show()\n",
    "plt.savefig('/Users/elizabeth/egregorio@gwmail.gwu.edu - Google Drive/My Drive/Summer-2023-Diver-Experiments/\\\n",
    "analysis/angle-splash.png',dpi=1200)"
   ]
  },
  {
   "cell_type": "code",
   "execution_count": null,
   "id": "8cad3dcd",
   "metadata": {},
   "outputs": [],
   "source": [
    "H_slope, H_intercept, H_rvalue, H_pvalue, H_stderr = linregress(hinge_impact1, hinge_splash)\n",
    "X = np.linspace(2,4.5,100)\n",
    "\n",
    "H_rvalue = round(H_rvalue, 3)\n",
    "\n",
    "# Hinged and Fixed Impact Velocity v Depth of Pinch Off\n",
    "plt.figure()\n",
    "plt.plot(X,H_slope*X+H_intercept,'--',color='k',label='R$^2$ = '+str(H_rvalue))\n",
    "plt.plot(hinge_impact1,hinge_splash,'o',color='k')\n",
    "plt.xlabel('Impact Velocity (m/s)')\n",
    "plt.ylabel('Splash Height (cm)')\n",
    "plt.legend()\n",
    "plt.xlim(2,4.5)\n",
    "plt.ylim(0,16)\n",
    "#plt.show()\n",
    "plt.savefig('/Users/elizabeth/egregorio@gwmail.gwu.edu - Google Drive/My Drive/Summer-2023-Diver-Experiments/\\\n",
    "analysis/splash-impactVelocityAll.png',dpi=1200)"
   ]
  },
  {
   "cell_type": "code",
   "execution_count": null,
   "id": "ffd4c162",
   "metadata": {},
   "outputs": [],
   "source": [
    "F_slope, F_intercept, F_rvalue, F_pvalue, F_stderr = linregress(fixed_impact1, fixed_depthc2)\n",
    "H_slope, H_intercept, H_rvalue, H_pvalue, H_stderr = linregress(hinge_impact1, hinge_depthc2)\n",
    "X = np.linspace(2,4.5,100)\n",
    "\n",
    "F_rvalue = round(F_rvalue, 3)\n",
    "H_rvalue = round(H_rvalue, 3)\n",
    "\n",
    "# Hinged and Fixed Impact Velocity v Depth of Pinch Off\n",
    "plt.figure()\n",
    "plt.plot(X,F_slope*X+F_intercept,'-.',color='k')\n",
    "plt.plot(X,H_slope*X+H_intercept,'--',color='k')\n",
    "plt.plot(fixed_impact1,fixed_depthc2,'^',color='k',markerfacecolor='w',label='Fixed, R$^2$ = '+str(F_rvalue)) \n",
    "plt.plot(hinge_impact1,hinge_depthc2,'o',color='k',label='Hinged, R$^2$ = '+str(F_rvalue))\n",
    "plt.xlabel('Impact Velocity (m/s)')\n",
    "plt.ylabel('Depth of Pinch Off (cm)')\n",
    "F_patch = mpatches.Patch(color='darkturquoise', label='Fixed, R$^2$ = '+str(F_rvalue)) \n",
    "H_patch = mpatches.Patch(color='k', label='Hinged, R$^2$ = '+str(H_rvalue)) \n",
    "plt.legend()#handles=[F_patch, H_patch],frameon=False)\n",
    "plt.xlim(2,4.5)\n",
    "plt.ylim(0,0.4)\n",
    "#plt.show()\n",
    "plt.savefig('/Users/elizabeth/egregorio@gwmail.gwu.edu - Google Drive/My Drive/Summer-2023-Diver-Experiments/\\\n",
    "analysis/velocity-pinchDepth.png',dpi=1200)"
   ]
  },
  {
   "cell_type": "code",
   "execution_count": null,
   "id": "0c6949a4",
   "metadata": {},
   "outputs": [],
   "source": [
    "F_slope, F_intercept, F_rvalue, F_pvalue, F_stderr = linregress(fixed_impact1, fixed_splash)\n",
    "H_slope, H_intercept, H_rvalue, H_pvalue, H_stderr = linregress(hinge_impact1, hinge_splash)\n",
    "X = np.linspace(2,4.5,100)\n",
    "\n",
    "F_rvalue = round(F_rvalue, 3)\n",
    "H_rvalue = round(H_rvalue, 3)\n",
    "\n",
    "# Hinged and Fixed Impact Velocity v Depth of Pinch Off\n",
    "plt.figure()\n",
    "plt.plot(X,F_slope*X+F_intercept,'-.',color='k')\n",
    "plt.plot(X,H_slope*X+H_intercept,'--',color='k')\n",
    "plt.plot(fixed_impact1,fixed_splash,'^',color='k',markerfacecolor='w',label='Fixed, R$^2$ = '+str(F_rvalue)) \n",
    "plt.plot(hinge_impact1,hinge_splash,'o',color='k',label='Hinged, R$^2$ = '+str(F_rvalue))\n",
    "plt.xlabel('Impact Velocity (m/s)')\n",
    "plt.ylabel('Splash Height (cm)')\n",
    "F_patch = mpatches.Patch(color='darkturquoise', label='Fixed, R$^2$ = '+str(F_rvalue)) \n",
    "H_patch = mpatches.Patch(color='k', label='Hinged, R$^2$ = '+str(H_rvalue)) \n",
    "plt.legend()#handles=[F_patch, H_patch],frameon=False)\n",
    "plt.xlim(2,4.5)\n",
    "plt.ylim(0,16)\n",
    "#plt.show()\n",
    "plt.savefig('/Users/elizabeth/egregorio@gwmail.gwu.edu - Google Drive/My Drive/Summer-2023-Diver-Experiments/\\\n",
    "analysis/velocity-splash.png',dpi=1200)"
   ]
  },
  {
   "cell_type": "code",
   "execution_count": null,
   "id": "a1dff0c0",
   "metadata": {},
   "outputs": [],
   "source": [
    "F_slope, F_intercept, F_rvalue, F_pvalue, F_stderr = linregress(fixed_impact1, fixed_pinch_t)\n",
    "H_slope, H_intercept, H_rvalue, H_pvalue, H_stderr = linregress(hinge_impact1, hinge_pinch_t)\n",
    "X = np.linspace(2,4.5,100)\n",
    "\n",
    "F_rvalue = round(F_rvalue, 3)\n",
    "H_rvalue = round(H_rvalue, 3)\n",
    "\n",
    "# Hinged and Fixed Impact Velocity v Depth of Pinch Off\n",
    "plt.figure()\n",
    "plt.plot(X,F_slope*X+F_intercept,'-.',color='k')\n",
    "plt.plot(X,H_slope*X+H_intercept,'--',color='k')\n",
    "plt.plot(fixed_impact1,fixed_pinch_t,'^',color='k',markerfacecolor='w',label='Fixed, R$^2$ = '+str(F_rvalue)) \n",
    "plt.plot(hinge_impact1,hinge_pinch_t,'o',color='k',label='Hinged, R$^2$ = '+str(F_rvalue))\n",
    "F_patch = mpatches.Patch(color='darkturquoise', label='Fixed, R$^2$ = '+str(F_rvalue)) \n",
    "H_patch = mpatches.Patch(color='k', label='Hinged, R$^2$ = '+str(H_rvalue)) \n",
    "plt.xlabel('Impact Velocity (m/s)')\n",
    "plt.ylabel('Time of Pinch Off (s)')\n",
    "plt.xlim(2,4.5)\n",
    "plt.ylim(0.1,0.30)\n",
    "plt.legend()#(handles=[F_patch, H_patch],frameon=False,loc='lower right')\n",
    "#plt.show()\n",
    "plt.savefig('/Users/elizabeth/egregorio@gwmail.gwu.edu - Google Drive/My Drive/Summer-2023-Diver-Experiments/\\\n",
    "analysis/velocity-pinchTime.png',dpi=1200)"
   ]
  },
  {
   "cell_type": "code",
   "execution_count": null,
   "id": "64e4bfa5",
   "metadata": {},
   "outputs": [],
   "source": [
    "F_slope, F_intercept, F_rvalue, F_pvalue, F_stderr = linregress(fixed_splash, fixed_depthc2)\n",
    "H_slope, H_intercept, H_rvalue, H_pvalue, H_stderr = linregress(hinge_splash, hinge_depthc2)\n",
    "X = np.linspace(0,16,100)\n",
    "\n",
    "F_rvalue = round(F_rvalue, 3)\n",
    "H_rvalue = round(H_rvalue, 3)\n",
    "\n",
    "# Hinged and Fixed Impact Velocity v Depth of Pinch Off\n",
    "plt.figure()\n",
    "#plt.plot(X,F_slope*X+F_intercept,'--',color='darkturquoise')\n",
    "#plt.plot(X,H_slope*X+H_intercept,'--',color='k')\n",
    "plt.plot(fixed_splash,fixed_depthc2,'^',color='k',markerfacecolor='w',label='Fixed, R$^2$ = '+str(F_rvalue)) \n",
    "plt.plot(hinge_splash,hinge_depthc2,'o',color='k',label='Hinged, R$^2$ = '+str(F_rvalue))\n",
    "plt.xlabel('Splash Height (cm)')\n",
    "plt.ylabel('Depth of Cavity at Pinch Off (cm)')\n",
    "F_patch = mpatches.Patch(color='darkturquoise', label='Fixed, R$^2$ = '+str(F_rvalue)) \n",
    "H_patch = mpatches.Patch(color='k', label='Hinged, R$^2$ = '+str(H_rvalue)) \n",
    "plt.legend()#(handles=[F_patch, H_patch],frameon=False)\n",
    "plt.xlim(0,16)\n",
    "plt.ylim(0,0.4)\n",
    "#plt.show()\n",
    "plt.savefig('/Users/elizabeth/egregorio@gwmail.gwu.edu - Google Drive/My Drive/Summer-2023-Diver-Experiments/\\\n",
    "analysis/depthCavity-splashT6.png',dpi=1200)"
   ]
  },
  {
   "cell_type": "code",
   "execution_count": null,
   "id": "74fa87c9",
   "metadata": {},
   "outputs": [],
   "source": [
    "'''\n",
    "These next few cells calculate non dimensional values and may re assigne things, always re start from the top\n",
    "after resetting the kernal after using them :)\n",
    "'''"
   ]
  },
  {
   "cell_type": "code",
   "execution_count": null,
   "id": "4cefcaec",
   "metadata": {},
   "outputs": [],
   "source": [
    "# Froude Number\n",
    "# Fr = u / sqrt(g / L)\n",
    "# where t is pinch off time, g is gravity, and L is the chosen length scale\n",
    "# generally the papers we will compare with use the diameter\n",
    "# we don't have a constant diameter, 0.0254 x 0.0381 m\n",
    "\n",
    "nonD_fixed = np.array(fixed_impact1) / np.sqrt(9.81 / 0.0254)\n",
    "nonD_hinge = np.array(hinge_impact1) / np.sqrt(9.81 / 0.0254)\n",
    "\n",
    "F_slope, F_intercept, F_rvalue, F_pvalue, F_stderr = linregress(nonD_fixed, fixed_depthc2)\n",
    "H_slope, H_intercept, H_rvalue, H_pvalue, H_stderr = linregress(nonD_hinge, hinge_depthc2)\n",
    "X = np.linspace(0.1,0.24,100)\n",
    "\n",
    "F_rvalue = round(F_rvalue, 3)\n",
    "H_rvalue = round(H_rvalue, 3)\n",
    "\n",
    "# Hinged and Fixed Impact Velocity v Depth of Pinch Off\n",
    "plt.figure()\n",
    "plt.plot(X,F_slope*X+F_intercept,'-.',color='k')#color='darkturquoise')\n",
    "plt.plot(X,H_slope*X+H_intercept,'--',color='k')\n",
    "plt.plot(nonD_fixed,fixed_depthc2,'^',color='k',markerfacecolor='w',label='Fixed, R$^2$ = '+str(F_rvalue)) \n",
    "plt.plot(nonD_hinge,hinge_depthc2,'o',color='k',label='Hinged, R$^2$ = '+str(H_rvalue)) \n",
    "#F_patch = mpatches.Patch(color='w',edgecolors='black', label='Fixed, R$^2$ = '+str(F_rvalue)) \n",
    "#H_patch = mpatches.Patch(color='k', label='Hinged, R$^2$ = '+str(H_rvalue)) \n",
    "plt.xlabel('Fr')\n",
    "plt.ylabel('Depth of Pinch Off (cm)')\n",
    "plt.xlim(0.1,0.24)\n",
    "plt.ylim(0,0.40)\n",
    "plt.legend()#handles=[F_patch, H_patch],frameon=False,loc='upper left')\n",
    "#plt.show()\n",
    "plt.savefig('/Users/elizabeth/egregorio@gwmail.gwu.edu - Google Drive/My Drive/Summer-2023-Diver-Experiments/\\\n",
    "analysis/Fr-pinchDepth.png',dpi=1200)"
   ]
  },
  {
   "cell_type": "code",
   "execution_count": null,
   "id": "61c247cd",
   "metadata": {},
   "outputs": [],
   "source": [
    "F_slope, F_intercept, F_rvalue, F_pvalue, F_stderr = linregress(nonD_fixed, fixed_splash)\n",
    "H_slope, H_intercept, H_rvalue, H_pvalue, H_stderr = linregress(nonD_hinge, hinge_splash)\n",
    "X = np.linspace(0.1,0.24,100)\n",
    "\n",
    "F_rvalue = round(F_rvalue, 3)\n",
    "H_rvalue = round(H_rvalue, 3)\n",
    "\n",
    "# Hinged and Fixed Impact Velocity v Depth of Pinch Off\n",
    "plt.figure()\n",
    "plt.plot(X,F_slope*X+F_intercept,'-.',color='k')#color='darkturquoise')\n",
    "plt.plot(X,H_slope*X+H_intercept,'--',color='k')\n",
    "plt.plot(nonD_hinge,hinge_splash,'o',color='k',label='Hinged, R$^2$ = '+str(H_rvalue)) \n",
    "plt.plot(nonD_fixed,fixed_splash,'^',color='k',markerfacecolor='w',label='Fixed, R$^2$ = '+str(F_rvalue)) \n",
    "plt.xlabel('Fr')\n",
    "plt.ylabel('Splash Height (cm)')\n",
    "plt.xlim(0.1,0.24)\n",
    "plt.ylim(0,16)\n",
    "plt.legend()\n",
    "#plt.legend(handles=[F_patch, H_patch],frameon=False,loc='upper left')\n",
    "#plt.show()\n",
    "plt.savefig('/Users/elizabeth/egregorio@gwmail.gwu.edu - Google Drive/My Drive/Summer-2023-Diver-Experiments/\\\n",
    "analysis/Fr-SplashHeight.png',dpi=1200)"
   ]
  },
  {
   "cell_type": "code",
   "execution_count": null,
   "id": "a4afe86c",
   "metadata": {},
   "outputs": [],
   "source": [
    "fixed_s_star = fixed_splash\n",
    "hinge_s_star = hinge_splash\n",
    "\n",
    "arm_length  = 7.88 # m\n",
    "body_length = 14.4 # m\n",
    "\n",
    "for i in range(0,len(fixed_splash)):\n",
    "    fixed_s_star[i] = fixed_splash[i] / body_length\n",
    "for i in range(0,len(hinge_splash)):\n",
    "    hinge_s_star[i] = hinge_splash[i] / arm_length\n",
    "\n",
    "F_slope, F_intercept, F_rvalue, F_pvalue, F_stderr = linregress(nonD_fixed, fixed_s_star)\n",
    "H_slope, H_intercept, H_rvalue, H_pvalue, H_stderr = linregress(nonD_hinge, hinge_s_star)\n",
    "X = np.linspace(0.1,0.24,100)\n",
    "\n",
    "F_rvalue = round(F_rvalue, 3)\n",
    "H_rvalue = round(H_rvalue, 3)\n",
    "\n",
    "# Hinged and Fixed Impact Velocity v Depth of Pinch Off\n",
    "plt.figure()\n",
    "plt.plot(X,F_slope*X+F_intercept,'-.',color='k')\n",
    "plt.plot(X,H_slope*X+H_intercept,'--',color='k')\n",
    "plt.plot(nonD_hinge,hinge_s_star,'o',color='k',label='Hinged, R$^2$ = '+str(H_rvalue)) \n",
    "plt.plot(nonD_fixed,fixed_s_star,'^',color='k',markerfacecolor='w',label='Fixed, R$^2$ = '+str(F_rvalue)) \n",
    "plt.xlabel('Fr')\n",
    "plt.ylabel('S$^*$')\n",
    "F_patch = mpatches.Patch(color='darkturquoise', label='Fixed, R$^2$ = '+str(F_rvalue)) \n",
    "H_patch = mpatches.Patch(color='k', label='Hinged, R$^2$ = '+str(H_rvalue)) \n",
    "plt.legend()#(handles=[F_patch, H_patch],frameon=False)\n",
    "plt.xlim(0.1,0.24)\n",
    "plt.ylim(0,2)\n",
    "#plt.show()\n",
    "plt.savefig('/Users/elizabeth/egregorio@gwmail.gwu.edu - Google Drive/My Drive/Summer-2023-Diver-Experiments/\\\n",
    "analysis/velocity-D-star-splash.png',dpi=1200)"
   ]
  },
  {
   "cell_type": "code",
   "execution_count": null,
   "id": "3d178fbb",
   "metadata": {},
   "outputs": [],
   "source": [
    "fixed_d_star = fixed_depthc2\n",
    "hinge_d_star = hinge_depthc2\n",
    "\n",
    "arm_length  = 7.88 # m\n",
    "body_length = 14.4 # m\n",
    "\n",
    "for i in range(0,len(fixed_depthc2)):\n",
    "    fixed_d_star[i] = fixed_depthc2[i] / body_length\n",
    "for i in range(0,len(hinge_depthc2)):\n",
    "    hinge_d_star[i] = hinge_depthc2[i] / arm_length\n",
    "\n",
    "F_slope, F_intercept, F_rvalue, F_pvalue, F_stderr = linregress(nonD_fixed, fixed_d_star)\n",
    "H_slope, H_intercept, H_rvalue, H_pvalue, H_stderr = linregress(nonD_hinge, hinge_d_star)\n",
    "X = np.linspace(0.1,0.24,100)\n",
    "\n",
    "F_rvalue = round(F_rvalue, 3)\n",
    "H_rvalue = round(H_rvalue, 3)\n",
    "\n",
    "# Hinged and Fixed Impact Velocity v Depth of Pinch Off\n",
    "plt.figure()\n",
    "plt.plot(X,F_slope*X+F_intercept,'-.',color='k')\n",
    "plt.plot(X,H_slope*X+H_intercept,'--',color='k')\n",
    "plt.plot(nonD_hinge,hinge_d_star,'o',color='k',label='Hinged, R$^2$ = '+str(F_rvalue))\n",
    "plt.plot(nonD_fixed,fixed_d_star,'^',color='k',markerfacecolor='w',label='Fixed, R$^2$ = '+str(F_rvalue)) \n",
    "plt.xlabel('Fr')\n",
    "plt.ylabel('D$^*$')\n",
    "F_patch = mpatches.Patch(color='darkturquoise', label='Fixed, R$^2$ = '+str(F_rvalue)) \n",
    "H_patch = mpatches.Patch(color='k', label='Hinged, R$^2$ = '+str(H_rvalue)) \n",
    "plt.legend()#(handles=[F_patch, H_patch],frameon=False)\n",
    "plt.xlim(0.1,0.24)\n",
    "plt.ylim(0.0,0.05)\n",
    "#plt.show()\n",
    "plt.savefig('/Users/elizabeth/egregorio@gwmail.gwu.edu - Google Drive/My Drive/Summer-2023-Diver-Experiments/\\\n",
    "analysis/velocity-D-star.png',dpi=1200)"
   ]
  },
  {
   "cell_type": "code",
   "execution_count": null,
   "id": "5eae1237",
   "metadata": {},
   "outputs": [],
   "source": [
    "# Non Dimensional Time from Bodily et al. 2014\n",
    "# Tau = t * sqrt( g / r )\n",
    "# where t is pinch off time, g is gravity, and r is radius\n",
    "# we don't have a constant diameter, 0.0254 x 0.0381 m\n",
    "# must divide by two to get the radius (duh)\n",
    "\n",
    "nonD_fixed = np.array(fixed_pinch_t) * np.sqrt(9.81 / (0.0254 / 2))\n",
    "nonD_hinge = np.array(hinge_pinch_t) * np.sqrt(9.81 / (0.0254 / 2))\n",
    "\n",
    "F_slope, F_intercept, F_rvalue, F_pvalue, F_stderr = linregress(fixed_impact1, nonD_fixed)\n",
    "H_slope, H_intercept, H_rvalue, H_pvalue, H_stderr = linregress(hinge_impact1, nonD_hinge)\n",
    "X = np.linspace(2,4.5,100)\n",
    "\n",
    "F_rvalue = round(F_rvalue, 3)\n",
    "H_rvalue = round(H_rvalue, 3)\n",
    "\n",
    "# Hinged and Fixed Impact Velocity v Depth of Pinch Off\n",
    "plt.figure()\n",
    "plt.plot(X,F_slope*X+F_intercept,'-.',color='k')\n",
    "plt.plot(X,H_slope*X+H_intercept,'--',color='k')\n",
    "plt.plot(fixed_impact1,nonD_fixed,'^',color='k',markerfacecolor='w',label='Fixed, R$^2$ = '+str(F_rvalue)) \n",
    "plt.plot(hinge_impact1,nonD_hinge,'o',color='k',label='Hinged, R$^2$ = '+str(F_rvalue))\n",
    "F_patch = mpatches.Patch(color='darkturquoise', label='Fixed, R$^2$ = '+str(F_rvalue)) \n",
    "H_patch = mpatches.Patch(color='k', label='Hinged, R$^2$ = '+str(H_rvalue)) \n",
    "plt.xlabel('Impact Velocity')\n",
    "plt.ylabel('$\\tau_B$ Bodily et al. 2014')\n",
    "plt.xlim(2,4.5)\n",
    "#plt.ylim(-0.01,0.05)\n",
    "plt.legend()#(handles=[F_patch, H_patch],frameon=False,loc='lower right')\n",
    "#plt.show()\n",
    "plt.savefig('/Users/elizabeth/egregorio@gwmail.gwu.edu - Google Drive/My Drive/Summer-2023-Diver-Experiments/\\\n",
    "analysis/velocity-pinchTime.png',dpi=1200)"
   ]
  },
  {
   "cell_type": "code",
   "execution_count": null,
   "id": "db54faeb",
   "metadata": {},
   "outputs": [],
   "source": [
    "'''\n",
    "STOP HERE\n",
    "'''"
   ]
  },
  {
   "cell_type": "code",
   "execution_count": null,
   "id": "5ae1d5a8",
   "metadata": {},
   "outputs": [],
   "source": [
    "W22_names = ['06292023.W22','06302023.W22','07072023.W22','07142023.W22']\n",
    "W10_names = ['07132023.W10']\n",
    "W28_names = ['07132023.W28']\n",
    "W17_names = ['07142023.W17']"
   ]
  },
  {
   "cell_type": "code",
   "execution_count": null,
   "id": "3a150321",
   "metadata": {},
   "outputs": [],
   "source": [
    "W22_Sc = []\n",
    "W22_Sp = []\n",
    "\n",
    "for i in range(0,len(W22_names)):\n",
    "    # Scalar Values\n",
    "    W22_Sc.append(glob.glob(P + A + os.path.join('/' + W22_names[i] + \"_scalars.csv\")))\n",
    "    W22_Sc.append(glob.glob(P + A + os.path.join('/' + W22_names[i] + \"_splashT6.csv\")))\n",
    "    \n",
    "W22_angle_files = []\n",
    "    \n",
    "for i in range(0,len(W22_names)):\n",
    "    W22_angle_files.append(glob.glob(P + A + os.path.join('/' + W22_names[i] + \"_angles.csv\")))\n",
    "    \n",
    "W10_Sc = []; W17_Sc = []; W28_Sc = []\n",
    "W10_Sp = []; W17_Sp = []; W28_Sp = []\n",
    "\n",
    "for i in range(0,1):\n",
    "    # Scalar Values\n",
    "    W10_Sc.append(glob.glob(P + A + os.path.join('/' + W10_names[i] + \"_scalars.csv\")))\n",
    "    W17_Sc.append(glob.glob(P + A + os.path.join('/' + W17_names[i] + \"_scalars.csv\")))\n",
    "    W28_Sc.append(glob.glob(P + A + os.path.join('/' + W28_names[i] + \"_scalars.csv\")))\n",
    "    # Splash Values\n",
    "    W10_Sp.append(glob.glob(P + A + os.path.join('/' + W10_names[i] + \"_splashT6.csv\")))\n",
    "    W17_Sp.append(glob.glob(P + A + os.path.join('/' + W17_names[i] + \"_splashT6.csv\")))\n",
    "    W28_Sp.append(glob.glob(P + A + os.path.join('/' + W28_names[i] + \"_splashT6.csv\")))\n",
    "\n",
    "    \n",
    "W10_angle_files = []; W17_angle_files = []; W28_angle_files = []\n",
    "    \n",
    "for i in range(0,1):\n",
    "    W10_angle_files.append(glob.glob(P + A + os.path.join('/' + W10_names[i] + \"_angles.csv\")))\n",
    "    W17_angle_files.append(glob.glob(P + A + os.path.join('/' + W17_names[i] + \"_angles.csv\")))\n",
    "    W28_angle_files.append(glob.glob(P + A + os.path.join('/' + W28_names[i] + \"_angles.csv\")))"
   ]
  },
  {
   "cell_type": "code",
   "execution_count": null,
   "id": "a4262ff5",
   "metadata": {},
   "outputs": [],
   "source": [
    "W22_scalars = [] \n",
    "W10_scalars = []\n",
    "W17_scalars = []\n",
    "W28_scalars = []\n",
    "\n",
    "for i in range(0,len(W10_Sc)):\n",
    "    current = np.loadtxt(W10_Sc[i][0],delimiter=',',skiprows=0)\n",
    "    W10_scalars.extend(current)\n",
    "for i in range(0,len(W17_Sc)):\n",
    "    current = np.loadtxt(W17_Sc[i][0],delimiter=',',skiprows=0)\n",
    "    W17_scalars.extend(current)\n",
    "for i in range(0,len(W22_Sc)):\n",
    "    current = np.loadtxt(W22_Sc[i][0],delimiter=',',skiprows=0)\n",
    "    W22_scalars.extend(current)    \n",
    "for i in range(0,len(W28_Sc)):\n",
    "    current = np.loadtxt(W28_Sc[i][0],delimiter=',',skiprows=0)\n",
    "    W28_scalars.extend(current)\n",
    "    \n",
    "W10_impact1 = []; W10_depthc2 = []; W10_pinch_t = []\n",
    "W17_impact1 = []; W17_depthc2 = []; W17_pinch_t = []\n",
    "W22_impact1 = []; W22_depthc2 = []; W22_pinch_t = []\n",
    "W28_impact1 = []; W28_depthc2 = []; W28_pinch_t = []\n",
    "\n",
    "for i in range(0,len(W10_scalars)):\n",
    "    W10_impact1.append(W10_scalars[i][0])\n",
    "    W10_depthc2.append(W10_scalars[i][7])\n",
    "    W10_pinch_t.append(W10_scalars[i][8])\n",
    "for i in range(0,len(W17_scalars)):\n",
    "    W17_impact1.append(W17_scalars[i][0])\n",
    "    W17_depthc2.append(W17_scalars[i][7])\n",
    "    W17_pinch_t.append(W17_scalars[i][8])\n",
    "for i in range(0,len(W22_scalars)):\n",
    "    W22_impact1.append(W22_scalars[i][0])\n",
    "    W22_depthc2.append(W22_scalars[i][7])\n",
    "    W22_pinch_t.append(W22_scalars[i][8])\n",
    "for i in range(0,len(W28_scalars)):\n",
    "    W28_impact1.append(W28_scalars[i][0])\n",
    "    W28_depthc2.append(W28_scalars[i][7])\n",
    "    W28_pinch_t.append(W28_scalars[i][8])\n",
    "\n",
    "W10_degrees = []\n",
    "\n",
    "for i in range(0,len(W10_angle_files)):\n",
    "    current = np.loadtxt(W10_angle_files[i][0],delimiter=',',skiprows=0)\n",
    "    W10_degrees.extend(current)\n",
    "    \n",
    "W17_degrees = []\n",
    "\n",
    "for i in range(0,len(W17_angle_files)):\n",
    "    current = np.loadtxt(W17_angle_files[i][0],delimiter=',',skiprows=0)\n",
    "    W17_degrees.extend(current)\n",
    "\n",
    "W22_degrees = []\n",
    "\n",
    "for i in range(0,len(W22_angle_files)):\n",
    "    current = np.loadtxt(W22_angle_files[i][0],delimiter=',',skiprows=0)\n",
    "    W22_degrees.extend(current)\n",
    "\n",
    "W28_degrees = []\n",
    "\n",
    "for i in range(0,len(W28_angle_files)):\n",
    "    current = np.loadtxt(W28_angle_files[i][0],delimiter=',',skiprows=0)\n",
    "    W28_degrees.extend(current)"
   ]
  },
  {
   "cell_type": "code",
   "execution_count": null,
   "id": "e3fe43e7",
   "metadata": {},
   "outputs": [],
   "source": [
    "'''\n",
    "for i in range(0,len(W22_scalars)):\n",
    "    W22_impact1.append(W22_scalars[i][0])\n",
    "    W22_depthc2.append(W22_scalars[i][7])\n",
    "    W22_pinch_t.append(W22_scalars[i][8])\n",
    "'''\n",
    "for i in range(0,len(W22_scalars)):\n",
    "    print(W22_scalars[i][0])"
   ]
  },
  {
   "cell_type": "code",
   "execution_count": null,
   "id": "6022d14d",
   "metadata": {},
   "outputs": [],
   "source": [
    "for i in range(0,len(W10_Sp)):\n",
    "    current = np.loadtxt(W10_Sp[i][0],delimiter=',',skiprows=0)\n",
    "    W10_splash.extend(current)\n",
    "for i in range(0,len(W17_Sp)):\n",
    "    current = np.loadtxt(W17_Sp[i][0],delimiter=',',skiprows=0)\n",
    "    W17_splash.extend(current)\n",
    "for i in range(0,len(W22_Sp)):\n",
    "    current = np.loadtxt(W22_Sp[i][0],delimiter=',',skiprows=0)\n",
    "    W22_splash.extend(current)\n",
    "for i in range(0,len(W28_Sp)):\n",
    "    current = np.loadtxt(W28_Sp[i][0],delimiter=',',skiprows=0)\n",
    "    W28_splash.extend(current)"
   ]
  },
  {
   "cell_type": "code",
   "execution_count": null,
   "id": "6e83af64",
   "metadata": {},
   "outputs": [],
   "source": [
    "W10_slope, W10_intercept, W10_rvalue, W10_pvalue, W10_stderr = linregress(W10_impact1, W10_degrees)\n",
    "W17_slope, W17_intercept, W17_rvalue, W17_pvalue, W17_stderr = linregress(W17_impact1, W17_degrees)\n",
    "W22_slope, W22_intercept, W22_rvalue, W22_pvalue, W22_stderr = linregress(W22_impact1, W22_degrees)\n",
    "W28_slope, W28_intercept, W28_rvalue, W28_pvalue, W28_stderr = linregress(W28_impact1, W28_degrees)\n",
    "X = np.linspace(-4.5,-2,100)\n",
    "\n",
    "W10_rvalue = round(W10_rvalue, 3)\n",
    "W17_rvalue = round(W17_rvalue, 3)\n",
    "W22_rvalue = round(W22_rvalue, 3)\n",
    "W28_rvalue = round(W28_rvalue, 3)\n",
    "\n",
    "\n",
    "# Hinged and Fixed Impact Velocity v Depth of Pinch Off\n",
    "plt.figure()\n",
    "#plt.plot(X,W10_slope*X+W10_intercept,'--',color='k')\n",
    "#plt.plot(X,W17_slope*X+W17_intercept,'--',color='b')\n",
    "#plt.plot(X,W22_slope*X+W22_intercept,'--',color='r')\n",
    "#plt.plot(X,W28_slope*X+W28_intercept,'--',color='g')\n",
    "plt.plot(W10_impact1,W10_degrees,'o',label='W10 Hinged')#+'R$^2$ = '+str(W10_rvalue))\n",
    "plt.plot(W17_impact1,W17_degrees,'o',label='W17 Hinged')#+'R$^2$ = '+str(W17_rvalue))\n",
    "plt.plot(W22_impact1,W22_degrees,'o',label='W22 Hinged')#+'R$^2$ = '+str(W22_rvalue))\n",
    "plt.plot(W28_impact1,W28_degrees,'o',label='W28 Hinged')#+'R$^2$ = '+str(W28_rvalue))\n",
    "plt.xlabel('Impact Velocity')\n",
    "plt.ylabel('Angle of Arms 0.006s After Impact')\n",
    "plt.legend()\n",
    "plt.xlim(-5,-2)\n",
    "plt.ylim(-10,110)\n",
    "#plt.show()\n",
    "plt.savefig('/Users/elizabeth/egregorio@gwmail.gwu.edu - Google Drive/My Drive/Summer-2023-Diver-Experiments/\\\n",
    "analysis/angle-impactVelocity.png',dpi=1200)"
   ]
  },
  {
   "cell_type": "code",
   "execution_count": null,
   "id": "e6ae41e5",
   "metadata": {},
   "outputs": [],
   "source": [
    "W10_slope, W10_intercept, W10_rvalue, W10_pvalue, W10_stderr = linregress(W10_depthc2, W10_degrees)\n",
    "W17_slope, W17_intercept, W17_rvalue, W17_pvalue, W17_stderr = linregress(W17_depthc2, W17_degrees)\n",
    "W22_slope, W22_intercept, W22_rvalue, W22_pvalue, W22_stderr = linregress(W22_depthc2, W22_degrees)\n",
    "W28_slope, W28_intercept, W28_rvalue, W28_pvalue, W28_stderr = linregress(W28_depthc2, W28_degrees)\n",
    "X = np.linspace(-4.5,-2,100)\n",
    "\n",
    "W10_rvalue = round(W10_rvalue, 3)\n",
    "W17_rvalue = round(W17_rvalue, 3)\n",
    "W22_rvalue = round(W22_rvalue, 3)\n",
    "W28_rvalue = round(W28_rvalue, 3)\n",
    "\n",
    "\n",
    "# Hinged and Fixed Impact Velocity v Depth of Pinch Off\n",
    "plt.figure()\n",
    "#plt.plot(X,W10_slope*X+W10_intercept,'--',color='k')\n",
    "#plt.plot(X,W17_slope*X+W17_intercept,'--',color='b')\n",
    "#plt.plot(X,W22_slope*X+W22_intercept,'--',color='r')\n",
    "#plt.plot(X,W28_slope*X+W28_intercept,'--',color='g')\n",
    "plt.plot(W10_depthc2,W10_degrees,'o',label='W10 Hinged')#+'R$^2$ = '+str(W10_rvalue))\n",
    "plt.plot(W17_depthc2,W17_degrees,'o',label='W17 Hinged')#+'R$^2$ = '+str(W17_rvalue))\n",
    "plt.plot(W22_depthc2,W22_degrees,'o',label='W22 Hinged')#+'R$^2$ = '+str(W22_rvalue))\n",
    "plt.plot(W28_depthc2,W28_degrees,'o',label='W28 Hinged')#+'R$^2$ = '+str(W28_rvalue))\n",
    "plt.xlabel('Depth of Pinch Off')\n",
    "plt.ylabel('Angle of Arms 0.006s After Impact')\n",
    "plt.legend()\n",
    "plt.ylim(-10,110)\n",
    "plt.xlim(-0.14,-0.0)\n",
    "#plt.show()\n",
    "plt.savefig('/Users/elizabeth/egregorio@gwmail.gwu.edu - Google Drive/My Drive/Summer-2023-Diver-Experiments/\\\n",
    "analysis/angle-pinchoffdepth.png',dpi=1200)"
   ]
  },
  {
   "cell_type": "code",
   "execution_count": null,
   "id": "443b9da8",
   "metadata": {},
   "outputs": [],
   "source": [
    "W10_slope, W10_intercept, W10_rvalue, W10_pvalue, W10_stderr = linregress(W10_pinch_t, W10_degrees)\n",
    "W17_slope, W17_intercept, W17_rvalue, W17_pvalue, W17_stderr = linregress(W17_pinch_t, W17_degrees)\n",
    "W22_slope, W22_intercept, W22_rvalue, W22_pvalue, W22_stderr = linregress(W22_pinch_t, W22_degrees)\n",
    "W28_slope, W28_intercept, W28_rvalue, W28_pvalue, W28_stderr = linregress(W28_pinch_t, W28_degrees)\n",
    "X = np.linspace(-4.5,-2,100)\n",
    "\n",
    "W10_rvalue = round(W10_rvalue, 3)\n",
    "W17_rvalue = round(W17_rvalue, 3)\n",
    "W22_rvalue = round(W22_rvalue, 3)\n",
    "W28_rvalue = round(W28_rvalue, 3)\n",
    "\n",
    "\n",
    "# Hinged and Fixed Impact Velocity v Depth of Pinch Off\n",
    "plt.figure()\n",
    "#plt.plot(X,W10_slope*X+W10_intercept,'--',color='k')\n",
    "#plt.plot(X,W17_slope*X+W17_intercept,'--',color='b')\n",
    "#plt.plot(X,W22_slope*X+W22_intercept,'--',color='r')\n",
    "#plt.plot(X,W28_slope*X+W28_intercept,'--',color='g')\n",
    "plt.plot(W10_pinch_t,W10_degrees,'o',color='k',label='W10 '+'R$^2$ = '+str(W10_rvalue))\n",
    "plt.plot(W17_pinch_t,W17_degrees,'o',color='b',label='W17 '+'R$^2$ = '+str(W17_rvalue))\n",
    "plt.plot(W22_pinch_t,W22_degrees,'o',color='r',label='W22 '+'R$^2$ = '+str(W22_rvalue))\n",
    "plt.plot(W28_pinch_t,W28_degrees,'o',color='g',label='W28 '+'R$^2$ = '+str(W28_rvalue))\n",
    "plt.xlabel('Pinch Off Time')\n",
    "plt.ylabel('Angle of Arms 0.006s After Impact')\n",
    "plt.legend()\n",
    "plt.ylim(-10,110)\n",
    "plt.xlim(0.01,0.05)\n",
    "#plt.show()\n",
    "plt.savefig('/Users/elizabeth/egregorio@gwmail.gwu.edu - Google Drive/My Drive/Summer-2023-Diver-Experiments/\\\n",
    "analysis/angle-pinchOffTime.png',dpi=1200)"
   ]
  },
  {
   "cell_type": "code",
   "execution_count": null,
   "id": "08575009",
   "metadata": {},
   "outputs": [],
   "source": [
    "'''\n",
    "Here the plots begin to be separated by wedge models\n",
    "May have an issue running the cells below after running all of the ones above.\n",
    "Worth a shot re-starting and then jumping here after running the first eight cells in the notebook :)\n",
    "'''"
   ]
  },
  {
   "cell_type": "code",
   "execution_count": 9,
   "id": "4600b9bf",
   "metadata": {},
   "outputs": [],
   "source": [
    "# for W22 0-3 are hinged, 4-5 are fixed\n",
    "W22_names = ['06292023.W22','06302023.W22','07072023.W22','07142023.W22','06272023.W22','06282023.SuperGlue']\n",
    "# for W10, W28, W17 0 is hinged and 1 is fixed\n",
    "W10_names = ['07132023.W10','06262023.W10']\n",
    "W28_names = ['07132023.W28','06282023.W28']\n",
    "W17_names = ['07142023.W17','10082023.W17Fixed']"
   ]
  },
  {
   "cell_type": "code",
   "execution_count": 10,
   "id": "8a2af29e",
   "metadata": {},
   "outputs": [],
   "source": [
    "W22_Sc = []\n",
    "W22_I1 = []\n",
    "\n",
    "for i in range(0,len(W22_names)):\n",
    "    # Scalar Values\n",
    "    W22_Sc.append(glob.glob(P + A + os.path.join('/' + W22_names[i] + \"_scalars.csv\")))\n",
    "    # Impact Velocity\n",
    "    W22_I1.append(glob.glob(P + A + os.path.join('/' + W22_names[i] + \"_impact1.csv\")))\n",
    "    \n",
    "W10_Sc = []; W17_Sc = []; W28_Sc = []\n",
    "W10_I1 = []; W17_I1 = []; W28_I1 = []\n",
    "\n",
    "for i in range(0,2):\n",
    "    # Scalar Values\n",
    "    W10_Sc.append(glob.glob(P + A + os.path.join('/' + W10_names[i] + \"_scalars.csv\")))\n",
    "    W17_Sc.append(glob.glob(P + A + os.path.join('/' + W17_names[i] + \"_scalars.csv\")))\n",
    "    W28_Sc.append(glob.glob(P + A + os.path.join('/' + W28_names[i] + \"_scalars.csv\")))\n",
    "    # Impact Velocity\n",
    "    W10_I1.append(glob.glob(P + A + os.path.join('/' + W10_names[i] + \"_impact1.csv\")))\n",
    "    W17_I1.append(glob.glob(P + A + os.path.join('/' + W17_names[i] + \"_impact1.csv\")))\n",
    "    W28_I1.append(glob.glob(P + A + os.path.join('/' + W28_names[i] + \"_impact1.csv\")))"
   ]
  },
  {
   "cell_type": "code",
   "execution_count": 11,
   "id": "510f7c01",
   "metadata": {},
   "outputs": [],
   "source": [
    "# Assigning Scalars to Arrays\n",
    "W10_Sc_Fixed = []; W10_Sc_Hinge = []\n",
    "W17_Sc_Fixed = []; W17_Sc_Hinge = []\n",
    "W28_Sc_Fixed = []; W28_Sc_Hinge = []\n",
    "\n",
    "for i in range(0,len(W10_Sc)):\n",
    "    scalars1 = np.loadtxt(W10_Sc[i][0],delimiter=',',skiprows=0)\n",
    "    scalars2 = np.loadtxt(W17_Sc[i][0],delimiter=',',skiprows=0)\n",
    "    scalars3 = np.loadtxt(W28_Sc[i][0],delimiter=',',skiprows=0)\n",
    "\n",
    "    if i == 0:\n",
    "        W10_Sc_Hinge.extend(scalars1)\n",
    "        W17_Sc_Hinge.extend(scalars2)\n",
    "        W28_Sc_Hinge.extend(scalars3)\n",
    "    else:\n",
    "        W10_Sc_Fixed.extend(scalars1)\n",
    "        W17_Sc_Fixed.extend(scalars2)\n",
    "        W28_Sc_Fixed.extend(scalars3)"
   ]
  },
  {
   "cell_type": "code",
   "execution_count": 12,
   "id": "c5fee402",
   "metadata": {},
   "outputs": [],
   "source": [
    "W22_Sc_Fixed = []; W22_Sc_Hinge = []\n",
    "\n",
    "for i in range(0,len(W22_Sc)):\n",
    "    scalars = np.loadtxt(W22_Sc[i][0],delimiter=',',skiprows=0)\n",
    "    \n",
    "    if i <= 3:\n",
    "        W22_Sc_Hinge.extend(scalars)\n",
    "    else:\n",
    "        W22_Sc_Fixed.extend(scalars)"
   ]
  },
  {
   "cell_type": "code",
   "execution_count": 13,
   "id": "d019e755",
   "metadata": {},
   "outputs": [],
   "source": [
    "W10_impactv_F = []; W10_depthc2_F = []\n",
    "W17_impactv_F = []; W17_depthc2_F = []\n",
    "W22_impactv_F = []; W22_depthc2_F = []\n",
    "W28_impactv_F = []; W28_depthc2_F = []\n",
    "W10_impactv_H = []; W10_depthc2_H = []\n",
    "W17_impactv_H = []; W17_depthc2_H = []\n",
    "W22_impactv_H = []; W22_depthc2_H = []\n",
    "W28_impactv_H = []; W28_depthc2_H = []\n",
    "\n",
    "for i in range(0,len(W10_Sc_Fixed)):\n",
    "    W10_impactv_F.append(W10_Sc_Fixed[i][0])\n",
    "    W10_depthc2_F.append(W10_Sc_Fixed[i][7])\n",
    "\n",
    "for i in range(0,len(W10_Sc_Hinge)):\n",
    "    W10_impactv_H.append(W10_Sc_Hinge[i][0])\n",
    "    W10_depthc2_H.append(W10_Sc_Hinge[i][7])\n",
    "    \n",
    "for i in range(0,len(W17_Sc_Fixed)):\n",
    "    W17_impactv_F.append(W17_Sc_Fixed[i][0])\n",
    "    W17_depthc2_F.append(W17_Sc_Fixed[i][7])\n",
    "\n",
    "for i in range(0,len(W17_Sc_Hinge)):\n",
    "    W17_impactv_H.append(W17_Sc_Hinge[i][0])\n",
    "    W17_depthc2_H.append(W17_Sc_Hinge[i][7])\n",
    "    \n",
    "for i in range(0,len(W22_Sc_Fixed)):\n",
    "    W22_impactv_F.append(W22_Sc_Fixed[i][0])\n",
    "    W22_depthc2_F.append(W22_Sc_Fixed[i][7])\n",
    "\n",
    "for i in range(0,len(W22_Sc_Hinge)):\n",
    "    W22_impactv_H.append(W22_Sc_Hinge[i][0])\n",
    "    W22_depthc2_H.append(W22_Sc_Hinge[i][7])\n",
    "    \n",
    "for i in range(0,len(W28_Sc_Fixed)):\n",
    "    W28_impactv_F.append(W28_Sc_Fixed[i][0])\n",
    "    W28_depthc2_F.append(W28_Sc_Fixed[i][7])\n",
    "\n",
    "for i in range(0,len(W28_Sc_Hinge)):\n",
    "    W28_impactv_H.append(W28_Sc_Hinge[i][0])\n",
    "    W28_depthc2_H.append(W28_Sc_Hinge[i][7])"
   ]
  },
  {
   "cell_type": "code",
   "execution_count": 14,
   "id": "1213c9d0",
   "metadata": {},
   "outputs": [
    {
     "name": "stderr",
     "output_type": "stream",
     "text": [
      "findfont: Font family ['serif'] not found. Falling back to DejaVu Sans.\n"
     ]
    },
    {
     "data": {
      "image/png": "[encoded data removed]",
      "text/plain": [
       "<Figure size 432x288 with 1 Axes>"
      ]
     },
     "metadata": {
      "needs_background": "light"
     },
     "output_type": "display_data"
    }
   ],
   "source": [
    "plt.figure()\n",
    "plt.title('W28')\n",
    "plt.plot(W28_impactv_H,W28_depthc2_H,'o',label='Hinged')\n",
    "plt.plot(W28_impactv_F,W28_depthc2_F,'o',label='Fixed')\n",
    "plt.xlabel('Impact Velocity')\n",
    "plt.ylabel('Depth of Pinch Off')\n",
    "plt.legend()\n",
    "plt.show()"
   ]
  },
  {
   "cell_type": "code",
   "execution_count": 15,
   "id": "60ffa131",
   "metadata": {},
   "outputs": [
    {
     "data": {
      "image/png": "[encoded data removed]",
      "text/plain": [
       "<Figure size 432x288 with 1 Axes>"
      ]
     },
     "metadata": {
      "needs_background": "light"
     },
     "output_type": "display_data"
    }
   ],
   "source": [
    "plt.figure()\n",
    "#plt.title('W22')\n",
    "plt.plot(W22_impactv_H,W22_depthc2_H,'o',label='W22 Hinged')\n",
    "plt.plot(W22_impactv_F,W22_depthc2_F,'o',label='W22 Fixed')\n",
    "plt.legend()\n",
    "plt.xlabel('Impact Velocity')\n",
    "plt.ylabel('Depth of Pinch Off')\n",
    "#plt.show()\n",
    "plt.savefig('/Users/elizabeth/egregorio@gwmail.gwu.edu - Google Drive/My Drive/Summer-2023-Diver-Experiments/\\\n",
    "analysis/W22-velocity-depth.png',dpi=1200)"
   ]
  },
  {
   "cell_type": "code",
   "execution_count": 16,
   "id": "7a47088b",
   "metadata": {},
   "outputs": [
    {
     "data": {
      "image/png": "[encoded data removed]",
      "text/plain": [
       "<Figure size 432x288 with 1 Axes>"
      ]
     },
     "metadata": {
      "needs_background": "light"
     },
     "output_type": "display_data"
    }
   ],
   "source": [
    "plt.figure()\n",
    "plt.title('W10')\n",
    "plt.plot(W10_impactv_H,W10_depthc2_H,'o',label='Hinged')\n",
    "plt.plot(W10_impactv_F,W10_depthc2_F,'o',label='Fixed')\n",
    "plt.xlabel('Impact Velocity')\n",
    "plt.ylabel('Depth of Pinch Off')\n",
    "plt.legend()\n",
    "plt.show()"
   ]
  },
  {
   "cell_type": "code",
   "execution_count": 17,
   "id": "9cfba7e3",
   "metadata": {},
   "outputs": [
    {
     "data": {
      "image/png": "[encoded data removed]",
      "text/plain": [
       "<Figure size 432x288 with 1 Axes>"
      ]
     },
     "metadata": {
      "needs_background": "light"
     },
     "output_type": "display_data"
    }
   ],
   "source": [
    "plt.figure()\n",
    "plt.title('W17')\n",
    "plt.plot(W17_impactv_H,W17_depthc2_H,'o',label='Hinged')\n",
    "plt.plot(W17_impactv_F,W17_depthc2_F,'o',label='Fixed')\n",
    "plt.xlabel('Impact Velocity')\n",
    "plt.ylabel('Depth of Pinch Off')\n",
    "plt.legend()\n",
    "plt.show()"
   ]
  },
  {
   "cell_type": "code",
   "execution_count": 25,
   "id": "71604a64",
   "metadata": {},
   "outputs": [
    {
     "data": {
      "image/png": "[encoded data removed]",
      "text/plain": [
       "<Figure size 432x288 with 1 Axes>"
      ]
     },
     "metadata": {
      "needs_background": "light"
     },
     "output_type": "display_data"
    }
   ],
   "source": [
    "plt.figure()\n",
    "plt.plot(W28_impactv_F,W28_depthc2_F,'o',label='W28 Fixed')\n",
    "plt.plot(W22_impactv_F,W22_depthc2_F,'o',label='W22 Fixed')\n",
    "plt.plot(W17_impactv_F,W17_depthc2_F,'o',label='W17 Fixed')\n",
    "plt.plot(W10_impactv_F,W10_depthc2_F,'o',label='W10 Fixed')\n",
    "plt.legend(loc='upper left')\n",
    "plt.xlim(-5,-1.5)\n",
    "#plt.ylim(-0.14,0.0)\n",
    "plt.xlabel('Impact Velocity')\n",
    "plt.ylabel('Depth of Pinch Off')\n",
    "#plt.show()\n",
    "plt.savefig('/Users/elizabeth/egregorio@gwmail.gwu.edu - Google Drive/My Drive/Summer-2023-Diver-Experiments/\\\n",
    "analysis/Fixed-velocity-depth.png',dpi=1200)"
   ]
  },
  {
   "cell_type": "code",
   "execution_count": 26,
   "id": "d12b1d5c",
   "metadata": {},
   "outputs": [
    {
     "data": {
      "image/png": "[encoded data removed]",
      "text/plain": [
       "<Figure size 432x288 with 1 Axes>"
      ]
     },
     "metadata": {
      "needs_background": "light"
     },
     "output_type": "display_data"
    }
   ],
   "source": [
    "plt.figure()\n",
    "plt.plot(W28_impactv_H,W28_depthc2_H,'o',label='W28 Hinged')\n",
    "plt.plot(W22_impactv_H,W22_depthc2_H,'o',label='W22 Hinged')\n",
    "plt.plot(W17_impactv_H,W17_depthc2_H,'o',label='W17 Hinged')\n",
    "plt.plot(W10_impactv_H,W10_depthc2_H,'o',label='W10 Hinged')\n",
    "plt.legend()\n",
    "plt.xlim(-5,-1.5)\n",
    "#plt.ylim(-0.14,0.0)\n",
    "plt.xlabel('Impact Velocity')\n",
    "plt.ylabel('Depth of Pinch Off')\n",
    "#plt.show()\n",
    "plt.savefig('/Users/elizabeth/egregorio@gwmail.gwu.edu - Google Drive/My Drive/Summer-2023-Diver-Experiments/\\\n",
    "analysis/Hinged-velocity-depth.png',dpi=1200)"
   ]
  },
  {
   "cell_type": "code",
   "execution_count": 20,
   "id": "d3388722",
   "metadata": {},
   "outputs": [
    {
     "data": {
      "image/png": "[encoded data removed]",
      "text/plain": [
       "<Figure size 432x288 with 1 Axes>"
      ]
     },
     "metadata": {
      "needs_background": "light"
     },
     "output_type": "display_data"
    }
   ],
   "source": [
    "# Fixed\n",
    "W28_d_star_F = W28_depthc2_F\n",
    "W22_d_star_F = W22_depthc2_F\n",
    "W17_d_star_F = W17_depthc2_F\n",
    "W10_d_star_F = W10_depthc2_F\n",
    "# Hinged\n",
    "W28_d_star_H = W28_depthc2_H\n",
    "W22_d_star_H = W22_depthc2_H\n",
    "W17_d_star_H = W17_depthc2_H\n",
    "W10_d_star_H = W10_depthc2_H\n",
    "\n",
    "arm_length  = 7.88 # m\n",
    "body_length = 14.4 # m\n",
    "\n",
    "# Fixed\n",
    "for i in range(0,len(W28_depthc2_F)):\n",
    "    W28_d_star_F[i] = W28_depthc2_F[i] / body_length\n",
    "for i in range(0,len(W22_depthc2_F)):\n",
    "    W22_d_star_F[i] = W22_depthc2_F[i] / body_length\n",
    "for i in range(0,len(W17_depthc2_F)):\n",
    "    W17_d_star_F[i] = W17_depthc2_F[i] / body_length\n",
    "for i in range(0,len(W10_depthc2_F)):\n",
    "    W10_d_star_F[i] = W10_depthc2_F[i] / body_length\n",
    "# Hinged\n",
    "for i in range(0,len(W28_depthc2_H)):\n",
    "    W28_d_star_H[i] = W28_depthc2_H[i] / arm_length\n",
    "for i in range(0,len(W22_depthc2_H)):\n",
    "    W22_d_star_H[i] = W22_depthc2_H[i] / arm_length\n",
    "for i in range(0,len(W17_depthc2_H)):\n",
    "    W17_d_star_H[i] = W17_depthc2_H[i] / arm_length\n",
    "for i in range(0,len(W10_depthc2_H)):\n",
    "    W10_d_star_H[i] = W10_depthc2_H[i] / arm_length\n",
    "\n",
    "plt.figure()\n",
    "#Fixed\n",
    "plt.plot(W28_impactv_F,W28_d_star_F,'o',label='W28 Fixed')\n",
    "plt.plot(W22_impactv_F,W22_d_star_F,'o',label='W22 Fixed')\n",
    "plt.plot(W17_impactv_F,W17_d_star_F,'o',label='W17 Fixed')\n",
    "plt.plot(W10_impactv_F,W10_d_star_F,'o',label='W10 Fixed')\n",
    "# Hinged\n",
    "plt.plot(W28_impactv_H,W28_d_star_H,'o',label='W28 Hinged')\n",
    "plt.plot(W22_impactv_H,W22_d_star_H,'o',label='W22 Hinged')\n",
    "plt.plot(W17_impactv_H,W17_d_star_H,'o',label='W17 Hinged')\n",
    "plt.plot(W10_impactv_H,W10_d_star_H,'o',label='W10 Hinged')\n",
    "plt.legend()\n",
    "plt.xlim(-5,-1.5)\n",
    "#plt.ylim(-0.14,0.0)\n",
    "plt.xlabel('Impact Velocity')\n",
    "plt.ylabel('Depth of Pinch Off')\n",
    "#plt.show()\n",
    "plt.savefig('/Users/elizabeth/egregorio@gwmail.gwu.edu - Google Drive/My Drive/Summer-2023-Diver-Experiments/\\\n",
    "analysis/labeled-d-star.png',dpi=1200)"
   ]
  },
  {
   "cell_type": "code",
   "execution_count": 21,
   "id": "70037aeb",
   "metadata": {},
   "outputs": [
    {
     "data": {
      "image/png": "[encoded data removed]",
      "text/plain": [
       "<Figure size 432x288 with 1 Axes>"
      ]
     },
     "metadata": {
      "needs_background": "light"
     },
     "output_type": "display_data"
    }
   ],
   "source": [
    "plt.figure()\n",
    "plt.title('W28')\n",
    "plt.plot(W28_impactv_H,W28_depthc2_H,'o',label='Hinged')\n",
    "plt.plot(W28_impactv_F,W28_depthc2_F,'o',label='Fixed')\n",
    "plt.xlabel('Impact Velocity')\n",
    "plt.ylabel('Depth of Pinch Off')\n",
    "plt.legend()\n",
    "plt.show()"
   ]
  },
  {
   "cell_type": "code",
   "execution_count": 22,
   "id": "7e6b0fd3",
   "metadata": {},
   "outputs": [
    {
     "data": {
      "text/plain": [
       "Text(0, 0.5, 'Depth of Pinch Off')"
      ]
     },
     "execution_count": 22,
     "metadata": {},
     "output_type": "execute_result"
    },
    {
     "data": {
      "image/png": "[encoded data removed]",
      "text/plain": [
       "<Figure size 432x288 with 1 Axes>"
      ]
     },
     "metadata": {
      "needs_background": "light"
     },
     "output_type": "display_data"
    }
   ],
   "source": [
    "plt.figure()\n",
    "#plt.title('W22')\n",
    "plt.plot(W22_impactv_H,W22_depthc2_H,'o',label='W22 Hinged')\n",
    "plt.plot(W22_impactv_F,W22_depthc2_F,'o',label='W22 Fixed')\n",
    "plt.legend()\n",
    "plt.xlabel('Impact Velocity')\n",
    "plt.ylabel('Depth of Pinch Off')\n",
    "#plt.show()\n",
    "#plt.savefig('/Users/elizabeth/egregorio@gwmail.gwu.edu - Google Drive/My Drive/Summer-2023-Diver-Experiments/\\\n",
    "#analysis/W22-velocity-depth.png',dpi=1200)"
   ]
  },
  {
   "cell_type": "code",
   "execution_count": 23,
   "id": "182fc93c",
   "metadata": {},
   "outputs": [
    {
     "data": {
      "image/png": "[encoded data removed]",
      "text/plain": [
       "<Figure size 432x288 with 1 Axes>"
      ]
     },
     "metadata": {
      "needs_background": "light"
     },
     "output_type": "display_data"
    }
   ],
   "source": [
    "plt.figure()\n",
    "plt.title('W10')\n",
    "plt.plot(W10_impactv_H,W10_depthc2_H,'o',label='Hinged')\n",
    "plt.plot(W10_impactv_F,W10_depthc2_F,'o',label='Fixed')\n",
    "plt.xlabel('Impact Velocity')\n",
    "plt.ylabel('Depth of Pinch Off')\n",
    "plt.legend()\n",
    "plt.show()"
   ]
  },
  {
   "cell_type": "code",
   "execution_count": 24,
   "id": "d20960e1",
   "metadata": {},
   "outputs": [
    {
     "data": {
      "image/png": "[encoded data removed]",
      "text/plain": [
       "<Figure size 432x288 with 1 Axes>"
      ]
     },
     "metadata": {
      "needs_background": "light"
     },
     "output_type": "display_data"
    }
   ],
   "source": [
    "plt.figure()\n",
    "plt.title('W17')\n",
    "plt.plot(W17_impactv_H,W17_depthc2_H,'o',label='Hinged')\n",
    "plt.plot(W17_impactv_F,W17_depthc2_F,'o',label='Fixed')\n",
    "plt.xlabel('Impact Velocity')\n",
    "plt.ylabel('Depth of Pinch Off')\n",
    "plt.legend()\n",
    "plt.show()"
   ]
  },
  {
   "cell_type": "code",
   "execution_count": null,
   "id": "b5856d33",
   "metadata": {},
   "outputs": [],
   "source": []
  }
 ],
 "metadata": {
  "kernelspec": {
   "display_name": "Python 3",
   "language": "python",
   "name": "python3"
  },
  "language_info": {
   "codemirror_mode": {
    "name": "ipython",
    "version": 3
   },
   "file_extension": ".py",
   "mimetype": "text/x-python",
   "name": "python",
   "nbconvert_exporter": "python",
   "pygments_lexer": "ipython3",
   "version": "3.8.8"
  }
 },
 "nbformat": 4,
 "nbformat_minor": 5
}
