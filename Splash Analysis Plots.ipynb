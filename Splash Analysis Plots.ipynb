{
 "cells": [
  {
   "cell_type": "code",
   "execution_count": 1,
   "id": "0a18d996",
   "metadata": {},
   "outputs": [],
   "source": [
    "import numpy as np\n",
    "import matplotlib.pyplot as plt\n",
    "import matplotlib.colors as mcolors\n",
    "import pandas as pd\n",
    "import csv\n",
    "import os\n",
    "import glob"
   ]
  },
  {
   "cell_type": "code",
   "execution_count": 2,
   "id": "2a54415c",
   "metadata": {},
   "outputs": [],
   "source": [
    "# Name the files you want to import\n",
    "P = '/Users/elizabeth/egregorio@gwmail.gwu.edu - Google Drive/My Drive/Summer-2023-Diver-Experiments/';\n",
    "A = 'analysis/';\n",
    "names = ['06262023.W10','06272023.W22','06282023.SuperGlue','06282023.W28','06292023.W22',\n",
    "         '06302023.W22','07072023.W22','07132023.W10','07132023.W28','07142023.W17','07142023.W22','10082023.W17Fixed']\n",
    "#names = ['06272023.W22','06282023.SuperGlue','06302023.W22','07072023.W22']\n",
    "#color_bi = ['b','b','k','k']\n",
    "#shape_bi = ['^','^','o','o']\n",
    "#color_m = ['b','g','g','r','g','g','g','b','r','k','g']\n",
    "shape_bi = ['^','^','^','^','o','o','o','o','o','o','o','^']\n",
    "color_bi = ['b','b','b','b','k','k','k','k','k','k','k','b']\n",
    "legend = ['F10', 'F22', 'F22', 'F28', 'H22', 'H22', 'H22', 'H10', 'H28', 'H17', 'H22' ]\n",
    "scalar_header = ['v_o point 1','v_o point 2','d_p point 1','d_p point 2','splash height','time of splash height']\n",
    "# v_o = impact velocity # d_p = depth of pinch off # splash height # time of splash height"
   ]
  },
  {
   "cell_type": "code",
   "execution_count": 3,
   "id": "46acc21f",
   "metadata": {},
   "outputs": [],
   "source": [
    "E1 = []; E2 = []; T_E1 = []; T_E2 = []\n",
    "I1 = []; I2 = []; T_I1 = []; T_I2 = []\n",
    "P1 = []; P2 = []; T_P1 = []; T_P2 = []\n",
    "Sp = []; Sx = []; T_Sp = []\n",
    "Sc = []\n",
    "\n",
    "\n",
    "for i in range(0,len(names)):\n",
    "    # Entry Velocity Profile\n",
    "    E1.append(glob.glob(P + A + os.path.join('/' + names[i] + \"_entry1.csv\")))\n",
    "    E2.append(glob.glob(P + A + os.path.join('/' + names[i] + \"_entry2.csv\")))\n",
    "    # Impact Velocity Profile\n",
    "    I1.append(glob.glob(P + A + os.path.join('/' + names[i] + \"_impact1.csv\")))\n",
    "    I2.append(glob.glob(P + A + os.path.join('/' + names[i] + \"_impact2.csv\")))\n",
    "    # Pinch off Velocity Profile\n",
    "    P1.append(glob.glob(P + A + os.path.join('/' + names[i] + \"_pinch1.csv\")))\n",
    "    P2.append(glob.glob(P + A + os.path.join('/' + names[i] + \"_pinch2.csv\")))\n",
    "    # Scalar Values\n",
    "    Sc.append(glob.glob(P + A + os.path.join('/' + names[i] + \"_scalars.csv\")))\n",
    "    # Splash Velocity Profile\n",
    "    Sp.append(glob.glob(P + A + os.path.join('/' + names[i] + \"_splash.csv\")))\n",
    "    Sx.append(glob.glob(P + A + os.path.join('/' + names[i] + \"_splash_pos.csv\")))\n",
    "    # Entry Velocity Profile Time List\n",
    "    T_E1.append(glob.glob(P + A + os.path.join('/' + names[i] + \"_entry1_time.csv\")))\n",
    "    T_E2.append(glob.glob(P + A + os.path.join('/' + names[i] + \"_entry2_time.csv\")))\n",
    "    # Impact Velocity Profile Time List\n",
    "    T_I1.append(glob.glob(P + A + os.path.join('/' + names[i] + \"_impact1_time.csv\")))\n",
    "    T_I2.append(glob.glob(P + A + os.path.join('/' + names[i] + \"_impact2_time.csv\")))\n",
    "    # Pinch off Velocity Profile Time List\n",
    "    T_P1.append(glob.glob(P + A + os.path.join('/' + names[i] + \"_pinch1_time.csv\")))\n",
    "    T_P2.append(glob.glob(P + A + os.path.join('/' + names[i] + \"_pinch2_time.csv\")))\n",
    "    # Splash Velocity Profile Time List\n",
    "    T_Sp.append(glob.glob(P + A + os.path.join('/' + names[i] + \"_splash_time.csv\")))"
   ]
  },
  {
   "cell_type": "code",
   "execution_count": 4,
   "id": "4e19b0b4",
   "metadata": {},
   "outputs": [
    {
     "name": "stdout",
     "output_type": "stream",
     "text": [
      "[['/Users/elizabeth/egregorio@gwmail.gwu.edu - Google Drive/My Drive/Summer-2023-Diver-Experiments/analysis//06262023.W10_scalars.csv'], ['/Users/elizabeth/egregorio@gwmail.gwu.edu - Google Drive/My Drive/Summer-2023-Diver-Experiments/analysis//06272023.W22_scalars.csv'], ['/Users/elizabeth/egregorio@gwmail.gwu.edu - Google Drive/My Drive/Summer-2023-Diver-Experiments/analysis//06282023.SuperGlue_scalars.csv'], ['/Users/elizabeth/egregorio@gwmail.gwu.edu - Google Drive/My Drive/Summer-2023-Diver-Experiments/analysis//06282023.W28_scalars.csv'], ['/Users/elizabeth/egregorio@gwmail.gwu.edu - Google Drive/My Drive/Summer-2023-Diver-Experiments/analysis//06292023.W22_scalars.csv'], ['/Users/elizabeth/egregorio@gwmail.gwu.edu - Google Drive/My Drive/Summer-2023-Diver-Experiments/analysis//06302023.W22_scalars.csv'], ['/Users/elizabeth/egregorio@gwmail.gwu.edu - Google Drive/My Drive/Summer-2023-Diver-Experiments/analysis//07072023.W22_scalars.csv'], ['/Users/elizabeth/egregorio@gwmail.gwu.edu - Google Drive/My Drive/Summer-2023-Diver-Experiments/analysis//07132023.W10_scalars.csv'], ['/Users/elizabeth/egregorio@gwmail.gwu.edu - Google Drive/My Drive/Summer-2023-Diver-Experiments/analysis//07132023.W28_scalars.csv'], ['/Users/elizabeth/egregorio@gwmail.gwu.edu - Google Drive/My Drive/Summer-2023-Diver-Experiments/analysis//07142023.W17_scalars.csv'], ['/Users/elizabeth/egregorio@gwmail.gwu.edu - Google Drive/My Drive/Summer-2023-Diver-Experiments/analysis//07142023.W22_scalars.csv'], ['/Users/elizabeth/egregorio@gwmail.gwu.edu - Google Drive/My Drive/Summer-2023-Diver-Experiments/analysis//10082023.W17Fixed_scalars.csv']]\n"
     ]
    }
   ],
   "source": [
    "print(Sc)"
   ]
  },
  {
   "cell_type": "code",
   "execution_count": null,
   "id": "86d9f01e",
   "metadata": {},
   "outputs": [],
   "source": [
    "for i in range(0,len(E1)):\n",
    "    entry1 = np.loadtxt(E1[i][0],delimiter=',',skiprows=0)\n",
    "    entry2 = np.loadtxt(E2[i][0],delimiter=',',skiprows=0)\n",
    "    time1 = np.loadtxt(T_E1[i][0],delimiter=',',skiprows=0)\n",
    "    time2 = np.loadtxt(T_E2[i][0],delimiter=',',skiprows=0)\n",
    "    \n",
    "    entry1[entry1==0] = np.nan; time1[time1==0] = np.nan\n",
    "    entry2[entry2==0] = np.nan; time2[time2==0] = np.nan\n",
    "    \n",
    "    plt.plot(time1, entry1, label = legend[i])\n",
    "    plt.plot(time2, entry2, label = legend[i])\n",
    "\n",
    "#plt.legend()\n",
    "plt.show()"
   ]
  },
  {
   "cell_type": "code",
   "execution_count": null,
   "id": "891d81ea",
   "metadata": {},
   "outputs": [],
   "source": [
    "entry1 = np.loadtxt(E1[0][0],delimiter=',',skiprows=0)\n",
    "entry2 = np.loadtxt(E1[7][0],delimiter=',',skiprows=0)\n",
    "time1 = np.loadtxt(T_E1[0][0],delimiter=',',skiprows=0)\n",
    "time2 = np.loadtxt(T_E1[7][0],delimiter=',',skiprows=0)\n",
    " \n",
    "entry1[entry1==0] = np.nan; time1[time1==0] = np.nan\n",
    "entry2[entry2==0] = np.nan; time2[time2==0] = np.nan\n",
    "    \n",
    "plt.plot(time1[0], entry1[0], label = legend[0])\n",
    "plt.plot(time2[0], entry2[0], label = legend[7])\n",
    "\n",
    "plt.legend()\n",
    "plt.show()"
   ]
  },
  {
   "cell_type": "code",
   "execution_count": null,
   "id": "78b583fb",
   "metadata": {},
   "outputs": [],
   "source": [
    "entry1 = np.loadtxt(I1[0][0],delimiter=',',skiprows=0)\n",
    "entry2 = np.loadtxt(I1[3][0],delimiter=',',skiprows=0)\n",
    "time1 = np.loadtxt(T_I1[0][0],delimiter=',',skiprows=0)\n",
    "time2 = np.loadtxt(T_I1[3][0],delimiter=',',skiprows=0)\n",
    "    \n",
    "entry1[entry1==0] = np.nan; time1[time1==0] = np.nan\n",
    "entry2[entry2==0] = np.nan; time2[time2==0] = np.nan\n",
    "    \n",
    "plt.plot(time1[0], entry1[0], label = legend[0])\n",
    "plt.plot(time2[0], entry2[0], label = legend[7])\n",
    "plt.plot(time1[0][-50:], entry1[0][-50:], label = legend[0])\n",
    "plt.plot(time2[0][-250:-200], entry2[0][-250:-200], label = legend[7])\n",
    "\n",
    "plt.legend()\n",
    "plt.show()"
   ]
  },
  {
   "cell_type": "code",
   "execution_count": null,
   "id": "00586281",
   "metadata": {},
   "outputs": [],
   "source": [
    "entry1 = np.loadtxt(I1[5][0],delimiter=',',skiprows=0)\n",
    "time1 = np.loadtxt(T_I1[5][0],delimiter=',',skiprows=0)\n",
    "    \n",
    "plt.plot(time1[10], entry1[10], label = legend[0])\n",
    "plt.plot(time1[10][-200:-150], entry1[10][-200:-150],'o', label = legend[0])\n",
    "\n",
    "plt.legend()\n",
    "plt.show()"
   ]
  },
  {
   "cell_type": "code",
   "execution_count": null,
   "id": "c5a96144",
   "metadata": {},
   "outputs": [],
   "source": [
    "entry1 = np.loadtxt(E1[0][0],delimiter=',',skiprows=0)\n",
    "entry2 = np.loadtxt(E1[3][0],delimiter=',',skiprows=0)\n",
    "time1 = np.loadtxt(T_E1[0][0],delimiter=',',skiprows=0)\n",
    "time2 = np.loadtxt(T_E1[3][0],delimiter=',',skiprows=0)\n",
    "    \n",
    "entry1[entry1==0] = np.nan; time1[time1==0] = np.nan\n",
    "entry2[entry2==0] = np.nan; time2[time2==0] = np.nan\n",
    "    \n",
    "plt.plot(time1[0], entry1[0], label = legend[1])\n",
    "plt.plot(time2[0], entry2[0], label = legend[4])\n",
    "\n",
    "plt.legend()\n",
    "plt.show()"
   ]
  },
  {
   "cell_type": "code",
   "execution_count": null,
   "id": "8efa8ec3",
   "metadata": {},
   "outputs": [],
   "source": [
    "entry1 = np.loadtxt(E1[3][0],delimiter=',',skiprows=0)\n",
    "entry2 = np.loadtxt(E1[8][0],delimiter=',',skiprows=0)\n",
    "time1 = np.loadtxt(T_E1[3][0],delimiter=',',skiprows=0)\n",
    "time2 = np.loadtxt(T_E1[8][0],delimiter=',',skiprows=0)\n",
    "\n",
    "entry1[entry1==0] = np.nan; time1[time1==0] = np.nan\n",
    "entry2[entry2==0] = np.nan; time2[time2==0] = np.nan\n",
    "\n",
    "\n",
    "plt.plot(time1[0], entry1[0], label = legend[3])\n",
    "plt.plot(time2[0], entry2[0], label = legend[8])\n",
    "plt.plot(time1[0][-100:], entry1[0][-100:],color='k', label = legend[3])\n",
    "plt.plot(time2[0][-100:], entry2[0][-100:],color='k', label = legend[8])\n",
    "#plt.plot(time1[0][:50], entry1[0][:50], label = legend[3])\n",
    "#plt.plot(time2[0][:50], entry2[0][:50], label = legend[8])\n",
    "plt.legend()\n",
    "plt.show()"
   ]
  },
  {
   "cell_type": "code",
   "execution_count": null,
   "id": "08ad28c7",
   "metadata": {},
   "outputs": [],
   "source": [
    "a, b = np.polyfit(time1[0][:50],entry1[0][:50],1)\n",
    "print(a)"
   ]
  },
  {
   "cell_type": "code",
   "execution_count": null,
   "id": "e98ac35b",
   "metadata": {},
   "outputs": [],
   "source": [
    "plt.plot(time1[0][:50], entry1[0][:50], label = legend[3])\n",
    "#plt.plot(time2[0], entry2[0], label = legend[8])\n",
    "plt.plot(time1[0][:50],a*time1[0][:50]+b)\n",
    "plt.legend()\n",
    "plt.show()"
   ]
  },
  {
   "cell_type": "code",
   "execution_count": null,
   "id": "90757ed4",
   "metadata": {},
   "outputs": [],
   "source": [
    "plt.figure()\n",
    "\n",
    "#for i in range(0,1):\n",
    "splash_x = np.loadtxt(Sx[0][0],delimiter=',',skiprows=0)\n",
    "splash_y = np.loadtxt(Sp[0][0],delimiter=',',skiprows=0)\n",
    "    \n",
    "splash_x[splash_x==0] = np.nan; splash_y[splash_y==0] = np.nan\n",
    "\n",
    "plt.title(legend[0])\n",
    "for i in range(0,len(splash_x)):\n",
    "    plt.plot(splash_x[i], splash_y[i])#,label=legend[i],color=color_bi[i])\n",
    "plt.ylim(0,0.2)\n",
    "#plt.legend()\n",
    "plt.show()\n",
    "#plt.savefig(glob.glob( P + A + os.path.join('/' + legend[0] + '_splash.png')))\n",
    "#plt.savefig('/Users/elizabeth/egregorio@gwmail.gwu.edu - Google Drive/My Drive/Summer-2023-Diver-Experiments/analysis/F10.png')"
   ]
  },
  {
   "cell_type": "code",
   "execution_count": null,
   "id": "82962b95",
   "metadata": {},
   "outputs": [],
   "source": [
    "plt.figure()\n",
    "\n",
    "#for i in range(0,1):\n",
    "splash_x = np.loadtxt(Sx[2][0],delimiter=',',skiprows=0)\n",
    "splash_y = np.loadtxt(Sp[2][0],delimiter=',',skiprows=0)\n",
    "    \n",
    "splash_x[splash_x==0] = np.nan; splash_y[splash_y==0] = np.nan\n",
    "\n",
    "plt.title(legend[2])\n",
    "for i in range(0,len(splash_x)):\n",
    "    plt.plot(splash_x[i], splash_y[i])#,label=legend[i],color=color_bi[i])\n",
    "#plt.xlim(0.025,0.2)\n",
    "plt.ylim(0,0.2)\n",
    "#plt.legend()\n",
    "#plt.savefig('/Users/elizabeth/egregorio@gwmail.gwu.edu - Google Drive/My Drive/Summer-2023-Diver-Experiments/analysis/F22.png')"
   ]
  },
  {
   "cell_type": "code",
   "execution_count": null,
   "id": "4ec0d9ea",
   "metadata": {},
   "outputs": [],
   "source": [
    "plt.figure()\n",
    "\n",
    "#for i in range(0,1):\n",
    "splash_x = np.loadtxt(Sx[3][0],delimiter=',',skiprows=0)\n",
    "splash_y = np.loadtxt(Sp[3][0],delimiter=',',skiprows=0)\n",
    "    \n",
    "splash_x[splash_x==0] = np.nan; splash_y[splash_y==0] = np.nan\n",
    "\n",
    "plt.title(legend[3])\n",
    "for i in range(0,len(splash_x)):\n",
    "    plt.plot(splash_x[i], splash_y[i])#,label=legend[i],color=color_bi[i])\n",
    "#plt.xlim(0.025,0.2)\n",
    "plt.ylim(0,0.2)\n",
    "#plt.legend()\n",
    "#plt.savefig('/Users/elizabeth/egregorio@gwmail.gwu.edu - Google Drive/My Drive/Summer-2023-Diver-Experiments/analysis/F28.png')"
   ]
  },
  {
   "cell_type": "code",
   "execution_count": null,
   "id": "b1f75a2b",
   "metadata": {},
   "outputs": [],
   "source": [
    "plt.figure()\n",
    "\n",
    "#for i in range(0,1):\n",
    "splash_x = np.loadtxt(Sx[7][0],delimiter=',',skiprows=0)\n",
    "splash_y = np.loadtxt(Sp[7][0],delimiter=',',skiprows=0)\n",
    "    \n",
    "splash_x[splash_x==0] = np.nan; splash_y[splash_y==0] = np.nan\n",
    "\n",
    "plt.title(legend[7])\n",
    "for i in range(0,len(splash_x)):\n",
    "    plt.plot(splash_x[i], splash_y[i])#,label=legend[i],color=color_bi[i])\n",
    "#plt.xlim(0.025,0.2)\n",
    "plt.ylim(0,0.2)\n",
    "#plt.legend()\n",
    "#plt.savefig('/Users/elizabeth/egregorio@gwmail.gwu.edu - Google Drive/My Drive/Summer-2023-Diver-Experiments/analysis/H10.png')"
   ]
  },
  {
   "cell_type": "code",
   "execution_count": null,
   "id": "41737e1b",
   "metadata": {},
   "outputs": [],
   "source": [
    "plt.figure()\n",
    "\n",
    "#for i in range(0,1):\n",
    "splash_x = np.loadtxt(Sx[6][0],delimiter=',',skiprows=0)\n",
    "splash_y = np.loadtxt(Sp[6][0],delimiter=',',skiprows=0)\n",
    "    \n",
    "splash_x[splash_x==0] = np.nan; splash_y[splash_y==0] = np.nan\n",
    "\n",
    "plt.title(legend[6])\n",
    "for i in range(0,len(splash_x)):\n",
    "    plt.plot(splash_x[i], splash_y[i])#,label=legend[i],color=color_bi[i])\n",
    "#plt.xlim(0.025,0.2)\n",
    "plt.ylim(0,0.2)\n",
    "#plt.legend()\n",
    "#plt.savefig('/Users/elizabeth/egregorio@gwmail.gwu.edu - Google Drive/My Drive/Summer-2023-Diver-Experiments/analysis/H22.png')"
   ]
  },
  {
   "cell_type": "code",
   "execution_count": null,
   "id": "f4f87005",
   "metadata": {},
   "outputs": [],
   "source": [
    "plt.figure()\n",
    "\n",
    "#for i in range(0,1):\n",
    "splash_x = np.loadtxt(Sx[8][0],delimiter=',',skiprows=0)\n",
    "splash_y = np.loadtxt(Sp[8][0],delimiter=',',skiprows=0)\n",
    "    \n",
    "splash_x[splash_x==0] = np.nan; splash_y[splash_y==0] = np.nan\n",
    "\n",
    "plt.title(legend[8])\n",
    "for i in range(0,len(splash_x)):\n",
    "    plt.plot(splash_x[i], splash_y[i])#,label=legend[i],color=color_bi[i])\n",
    "#plt.xlim(0.025,0.2)\n",
    "plt.ylim(0,0.2)\n",
    "#plt.legend()\n",
    "#plt.savefig('/Users/elizabeth/egregorio@gwmail.gwu.edu - Google Drive/My Drive/Summer-2023-Diver-Experiments/analysis/H28.png')"
   ]
  },
  {
   "cell_type": "code",
   "execution_count": 16,
   "id": "9dffef37",
   "metadata": {},
   "outputs": [
    {
     "data": {
      "image/png": "[encoded data removed]",
      "text/plain": [
       "<Figure size 432x288 with 1 Axes>"
      ]
     },
     "metadata": {
      "needs_background": "light"
     },
     "output_type": "display_data"
    }
   ],
   "source": [
    "plt.figure()\n",
    "for i in range(0,len(Sc)):\n",
    "    scalars = np.loadtxt(Sc[i][0],delimiter=',',skiprows=0)\n",
    "    \n",
    "    impact1 = scalars[0:,0]\n",
    "    impact2 = scalars[0:,1]\n",
    "    entryv1 = scalars[0:,2]\n",
    "    entryv2 = scalars[0:,3]\n",
    "    entryv3 = scalars[0:,4]\n",
    "    entryv4 = scalars[0:,5]\n",
    "    depthc1 = scalars[0:,6]\n",
    "    depthc2 = scalars[0:,7]\n",
    "    pinch_t = scalars[0:,8]\n",
    "    splashh = scalars[0:,9]\n",
    "    splasht = scalars[0:,10]\n",
    "#    print(np.shape(scalars))\n",
    "#    print(impact1)\n",
    "#    print(entryv1)\n",
    "    \n",
    "    deltaV1 = impact2 - entryv2\n",
    "    deltaV2 = impact1 - entryv4\n",
    "    \n",
    "#    print(deltaV1)\n",
    "    \n",
    "    for j in range(0,len(impact1)):\n",
    "        plt.plot(impact1[j],depthc2[j],shape_bi[i],color=color_bi[i])\n",
    "#        plt.plot(1,impact1[j],'o',color='r')\n",
    "#        plt.plot(2,entryv1[j],'o',color='b')\n",
    "#        plt.plot(3,entryv2[j],'o',color='g')\n",
    "#plt.legend()\n",
    "#plt.xlabel('Pinch Off Time')\n",
    "#plt.ylabel('Depth of Pinch Off')\n",
    "#plt.savefig('/Users/elizabeth/egregorio@gwmail.gwu.edu - Google Drive/My Drive/Summer-2023-Diver-Experiments/analysis/pinch_off.png')\n",
    "#plt.xlabel('Impact Velocity')\n",
    "#plt.ylabel('Splash Height')\n",
    "#plt.savefig('/Users/elizabeth/egregorio@gwmail.gwu.edu - Google Drive/My Drive/Summer-2023-Diver-Experiments/analysis/splash.png')"
   ]
  },
  {
   "cell_type": "code",
   "execution_count": null,
   "id": "a27ff902",
   "metadata": {},
   "outputs": [],
   "source": [
    "plt.figure()\n",
    "for i in range(0,len(E1)):\n",
    "    splash = np.loadtxt(Sp[i][0],delimiter=',',skiprows=0)\n",
    "    timeSp = np.loadtxt(T_Sp[i][0],delimiter=',',skiprows=0)\n",
    "    \n",
    "    splash[splash==0] = np.nan; timeSp[timeSp==0] = np.nan\n",
    "    \n",
    "    plt.plot(timeSp, splash, color=color_bi[i])\n",
    "\n",
    "#plt.legend()\n",
    "plt.show()"
   ]
  },
  {
   "cell_type": "code",
   "execution_count": 5,
   "id": "6f138232",
   "metadata": {},
   "outputs": [
    {
     "name": "stdout",
     "output_type": "stream",
     "text": [
      "(9, 299)\n"
     ]
    },
    {
     "data": {
      "image/png": "[encoded data removed]",
      "text/plain": [
       "<Figure size 432x288 with 1 Axes>"
      ]
     },
     "metadata": {
      "needs_background": "light"
     },
     "output_type": "display_data"
    }
   ],
   "source": [
    "plt.figure()\n",
    "\n",
    "pinch1 = np.loadtxt(P1[4][0],delimiter=',',skiprows=0)\n",
    "timeP1 = np.loadtxt(T_P1[4][0],delimiter=',',skiprows=0)\n",
    "pinch2 = np.loadtxt(P2[4][0],delimiter=',',skiprows=0)\n",
    "timeP2 = np.loadtxt(T_P2[4][0],delimiter=',',skiprows=0)\n",
    "splash = np.loadtxt(Sp[4][0],delimiter=',',skiprows=0)\n",
    "timeSp = np.loadtxt(T_Sp[4][0],delimiter=',',skiprows=0)\n",
    "\n",
    "#pinch1[pinch1==0] = np.nan; timeP1[timeP1==0] = np.nan\n",
    "#pinch2[pinch2==0] = np.nan; timeP2[timeP2==0] = np.nan\n",
    "#splash[splash==0] = np.nan; timeSp[timeSp==0] = np.nan\n",
    "\n",
    "print(np.shape(splash))\n",
    "\n",
    "for i in range(0,len(splash)):\n",
    "    plt.plot(timeSp[i], splash[i])#, color=color_bi[i])\n",
    "    plt.plot(timeP1[i], pinch1[i])\n",
    "    plt.plot(timeP2[i], pinch2[i])\n",
    "\n",
    "#plt.legend()\n",
    "plt.show()"
   ]
  },
  {
   "cell_type": "code",
   "execution_count": null,
   "id": "7a1483d8",
   "metadata": {},
   "outputs": [],
   "source": [
    "test = [1,2,3,4,5,6,7,8,9]\n",
    "print(max(test))\n",
    "print(test.index(max(test)))\n",
    "print(test[:3])"
   ]
  },
  {
   "cell_type": "code",
   "execution_count": null,
   "id": "507e731b",
   "metadata": {},
   "outputs": [],
   "source": []
  }
 ],
 "metadata": {
  "kernelspec": {
   "display_name": "Python 3",
   "language": "python",
   "name": "python3"
  },
  "language_info": {
   "codemirror_mode": {
    "name": "ipython",
    "version": 3
   },
   "file_extension": ".py",
   "mimetype": "text/x-python",
   "name": "python",
   "nbconvert_exporter": "python",
   "pygments_lexer": "ipython3",
   "version": "3.8.8"
  }
 },
 "nbformat": 4,
 "nbformat_minor": 5
}
