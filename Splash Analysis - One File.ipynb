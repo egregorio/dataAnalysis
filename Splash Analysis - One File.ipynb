{
 "cells": [
  {
   "cell_type": "code",
   "execution_count": 1,
   "id": "77818a8d",
   "metadata": {},
   "outputs": [],
   "source": [
    "# Import Libraries\n",
    "import numpy as np\n",
    "import matplotlib.pyplot as plt\n",
    "import pandas as pd\n",
    "import csv\n",
    "import os\n",
    "import glob"
   ]
  },
  {
   "cell_type": "code",
   "execution_count": 2,
   "id": "6bedc7f1",
   "metadata": {},
   "outputs": [],
   "source": [
    "# Name the files you want to import\n",
    "P = '/Users/elizabeth/egregorio@gwmail.gwu.edu - Google Drive/My Drive/Summer-2023-Diver-Experiments/';\n",
    "R = 'raw_data/';\n",
    "J = 'jet_data/';\n",
    "D = '07072023.W22';\n",
    "F = 'files.txt'\n",
    "T = '/Tracking';"
   ]
  },
  {
   "cell_type": "code",
   "execution_count": 3,
   "id": "770c019e",
   "metadata": {},
   "outputs": [],
   "source": [
    "# Put together the full filenames\n",
    "vel = glob.glob(P + R + D + T + \"/*.csv\")\n",
    "jet = glob.glob(P + J + D + T + \"/*.csv\")\n",
    "vel_files = glob.glob(P + R + D + T + '/' + F)\n",
    "jet_files = glob.glob(P + J + D + T + '/' + F)"
   ]
  },
  {
   "cell_type": "code",
   "execution_count": 8,
   "id": "34f2cdf5",
   "metadata": {},
   "outputs": [
    {
     "name": "stdout",
     "output_type": "stream",
     "text": [
      "001\n",
      "['/Users/elizabeth/egregorio@gwmail.gwu.edu - Google Drive/My Drive/Summer-2023-Diver-Experiments/raw_data/07072023.W22/Tracking/001.csv']\n"
     ]
    }
   ],
   "source": [
    "vfiles = np.loadtxt(vel_files[0],dtype='str')\n",
    "jfiles = np.loadtxt(jet_files[0],dtype='str')\n",
    "print(vfiles[0])\n",
    "file1 = glob.glob(P + R + D + T + '/' + vfiles[0] + \".csv\")\n",
    "print(file1)"
   ]
  },
  {
   "cell_type": "code",
   "execution_count": null,
   "id": "7bd6cf4e",
   "metadata": {},
   "outputs": [],
   "source": [
    "# Check it worked\n",
    "print(vel[0])\n",
    "print(jet[0])"
   ]
  },
  {
   "cell_type": "code",
   "execution_count": null,
   "id": "9e15324f",
   "metadata": {},
   "outputs": [],
   "source": [
    "# Load one file in as an array\n",
    "vel0 = np.loadtxt(vel[0],delimiter=',',skiprows=0)\n",
    "jet0 = np.loadtxt(jet[0],delimiter=',',skiprows=0)"
   ]
  },
  {
   "cell_type": "code",
   "execution_count": null,
   "id": "1e7ffa6e",
   "metadata": {},
   "outputs": [],
   "source": [
    "# Define the shape / points\n",
    "print(np.shape(vel0)) # [rows][columns], columns = (y,x) for four points, 1-4 are impact vel 5-8 are entry vel\n",
    "print(np.shape(jet0)) # [rows][columns], columns = (y,x) for three points: 1-4 are pinch off depth, 5-6 is jet height"
   ]
  },
  {
   "cell_type": "code",
   "execution_count": null,
   "id": "e65a880e",
   "metadata": {},
   "outputs": [],
   "source": [
    "# Need to grab all the values that aren't zero\n",
    "\n",
    "# Initialize empty lists\n",
    "impact1 = []; impact2 = []\n",
    "entry1 = []; entry2 = []\n",
    "pinch1 = []; pinch2 = []\n",
    "splash = []\n",
    "\n",
    "impact1_time = []; impact2_time = []\n",
    "entry1_time = []; entry2_time = []\n",
    "\n",
    "ppm1 = []; ppm2 = []\n",
    "\n",
    "# Loop for impact velocity\n",
    "for i in range(0,len(vel0)):\n",
    "    if vel0[i][0] != 0:\n",
    "        impact1.append(vel0[i][0])\n",
    "        impact1_time.append(i)\n",
    "    if vel0[i][2] != 0:\n",
    "        impact2.append(vel0[i][2])\n",
    "        impact2_time.append(i)\n",
    "    if vel0[i][4] != 0:\n",
    "        entry1.append(vel0[i][4])\n",
    "        entry1_time.append(i)\n",
    "    if vel0[i][6] != 0:\n",
    "        entry2.append(vel0[i][6])\n",
    "        entry2_time.append(i)\n",
    "\n",
    "pinch1_time = []; pinch2_time = []; splash_time = []\n",
    "        \n",
    "# Loop for splash\n",
    "for i in range(0,len(jet0)):\n",
    "    if jet0[i][0] != 0:\n",
    "        pinch1.append(jet0[i][0])\n",
    "        pinch1_time.append(i)\n",
    "    if jet0[i][2] != 0:\n",
    "        pinch2.append(jet0[i][2])\n",
    "        pinch2_time.append(i)\n",
    "    if jet0[i][4] != 0:\n",
    "        splash.append(jet0[i][4])\n",
    "        splash_time.append(i)\n",
    "\n",
    "# Loop for ppm conversions\n",
    "for i in range(0,len(vel0)):\n",
    "    if vel0[i][5] != 0:\n",
    "        ppm1.append(vel0[i][5])\n",
    "#        ppm1.append(i)\n",
    "    if vel0[i][7] != 0:\n",
    "        ppm2.append(vel0[i][7])\n",
    "#        ppm2.append(i)"
   ]
  },
  {
   "cell_type": "code",
   "execution_count": null,
   "id": "9100c027",
   "metadata": {},
   "outputs": [],
   "source": [
    "# Constants\n",
    "waterline = (impact1[-1] + impact2[-1]) / 2\n",
    "air_index = max(ppm1[0],ppm2[0])\n",
    "water_index = min(ppm1[-1],ppm2[-1])\n",
    "ppm_air   = abs( ppm1[0] - ppm2[0] ) * 39.4\n",
    "ppm_water = abs(ppm1[-1] - ppm2[-1]) * 39.4\n",
    "#print(air_index,water_index)\n",
    "#print((vel0[air_index][5] - vel0[air_index][7])*39.4)\n",
    "#print((vel0[water_index][5] - vel0[water_index][7])*39.4)\n",
    "print(ppm_air,ppm_water)"
   ]
  },
  {
   "cell_type": "code",
   "execution_count": null,
   "id": "3373b25d",
   "metadata": {},
   "outputs": [],
   "source": [
    "# Impact Velocity\n",
    "plt.figure()\n",
    "plt.plot(impact1)\n",
    "plt.plot(impact2)"
   ]
  },
  {
   "cell_type": "code",
   "execution_count": null,
   "id": "f7fafd04",
   "metadata": {},
   "outputs": [],
   "source": [
    "# Impact Velocity\n",
    "plt.figure()\n",
    "plt.plot(impact1[-50:])\n",
    "plt.plot(impact2[-50:])"
   ]
  },
  {
   "cell_type": "code",
   "execution_count": null,
   "id": "03c639d8",
   "metadata": {},
   "outputs": [],
   "source": [
    "# Entry Velocity\n",
    "plt.figure()\n",
    "plt.plot(entry1)\n",
    "plt.plot(entry2)\n",
    "plt.axhline(y=waterline)"
   ]
  },
  {
   "cell_type": "code",
   "execution_count": null,
   "id": "2704e098",
   "metadata": {},
   "outputs": [],
   "source": [
    "# Pinch Off Depth\n",
    "plt.figure()\n",
    "plt.plot(pinch1)\n",
    "plt.plot(pinch2)"
   ]
  },
  {
   "cell_type": "code",
   "execution_count": null,
   "id": "cd8939b3",
   "metadata": {},
   "outputs": [],
   "source": [
    "# Splash Height\n",
    "plt.figure()\n",
    "plt.plot(splash)"
   ]
  },
  {
   "cell_type": "code",
   "execution_count": null,
   "id": "ebbfcf1f",
   "metadata": {},
   "outputs": [],
   "source": [
    "# Shift and dimensionalize the time lists\n",
    "impact_time = max(impact1_time[-1],impact2_time[-1])\n",
    "\n",
    "for i in range(0,len(impact1_time)):\n",
    "    impact1_time[i] = impact1_time[i] - impact_time\n",
    "    impact1_time[i] = impact1_time[i] / 5150\n",
    "\n",
    "for i in range(0,len(impact2_time)):\n",
    "    impact2_time[i] = impact2_time[i] - impact_time\n",
    "    impact2_time[i] = impact2_time[i] / 5150\n",
    "\n",
    "for i in range(0,len(entry1_time)):\n",
    "    entry1_time[i] = entry1_time[i] - impact_time\n",
    "    entry1_time[i] = entry1_time[i] / 5150\n",
    "    \n",
    "for i in range(0,len(entry2_time)):\n",
    "    entry2_time[i] = entry2_time[i] - impact_time\n",
    "    entry2_time[i] = entry2_time[i] / 5150"
   ]
  },
  {
   "cell_type": "code",
   "execution_count": null,
   "id": "1cf90c18",
   "metadata": {},
   "outputs": [],
   "source": [
    "# Dimensionalize all the lengths\n",
    "impact1 = impact1 / ppm_air\n",
    "impact2 = impact2 / ppm_air\n",
    "pinch1 = pinch1 / ppm_water\n",
    "pinch2 = pinch2 / ppm_water\n",
    "splash = splash / ppm_air\n",
    "\n",
    "ve_1 = []\n",
    "ve_2 = []\n",
    "\n",
    "\n",
    "\n",
    "for i in range(0,len(entry1)):\n",
    "    if entry1[i] > waterline:\n",
    "        ve_1.append(entry1[i] / ppm_air)\n",
    "    if entry1[i] < waterline:\n",
    "        ve_1.append(entry1[i] / ppm_water)\n",
    "        \n",
    "for i in range(0,len(entry2)):\n",
    "    if entry2[i] > waterline:\n",
    "        ve_2.append(entry2[i] / ppm_air)\n",
    "    if entry2[i] < waterline:\n",
    "        ve_2.append(entry2[i] / ppm_water)"
   ]
  },
  {
   "cell_type": "code",
   "execution_count": null,
   "id": "13346dd1",
   "metadata": {},
   "outputs": [],
   "source": [
    "# Impact Velocity\n",
    "plt.figure()\n",
    "plt.plot(impact1[-50:])\n",
    "plt.plot(impact2[-50:])"
   ]
  },
  {
   "cell_type": "code",
   "execution_count": null,
   "id": "0c12f213",
   "metadata": {},
   "outputs": [],
   "source": [
    "point1_a, point1_b = np.polyfit(impact1_time[-50:],impact1[-50:],1)\n",
    "point2_a, point2_b = np.polyfit(impact2_time[-50:],impact2[-50:],1)\n",
    "print(point1_a,point2_a)"
   ]
  },
  {
   "cell_type": "code",
   "execution_count": null,
   "id": "e2022c4f",
   "metadata": {},
   "outputs": [],
   "source": [
    "# Entry Velocity\n",
    "plt.figure()\n",
    "plt.plot(entry1)\n",
    "plt.plot(entry2)"
   ]
  },
  {
   "cell_type": "code",
   "execution_count": null,
   "id": "f750e377",
   "metadata": {},
   "outputs": [],
   "source": [
    "# Pinch Off Depth\n",
    "plt.figure()\n",
    "plt.plot(pinch1)\n",
    "plt.plot(pinch2)"
   ]
  },
  {
   "cell_type": "code",
   "execution_count": null,
   "id": "ba6658f1",
   "metadata": {},
   "outputs": [],
   "source": [
    "# Splash Height\n",
    "plt.figure()\n",
    "plt.plot(splash)"
   ]
  },
  {
   "cell_type": "code",
   "execution_count": null,
   "id": "1d195bad",
   "metadata": {},
   "outputs": [],
   "source": []
  },
  {
   "cell_type": "code",
   "execution_count": null,
   "id": "45df85ea",
   "metadata": {},
   "outputs": [],
   "source": []
  }
 ],
 "metadata": {
  "kernelspec": {
   "display_name": "Python 3",
   "language": "python",
   "name": "python3"
  },
  "language_info": {
   "codemirror_mode": {
    "name": "ipython",
    "version": 3
   },
   "file_extension": ".py",
   "mimetype": "text/x-python",
   "name": "python",
   "nbconvert_exporter": "python",
   "pygments_lexer": "ipython3",
   "version": "3.8.8"
  }
 },
 "nbformat": 4,
 "nbformat_minor": 5
}
